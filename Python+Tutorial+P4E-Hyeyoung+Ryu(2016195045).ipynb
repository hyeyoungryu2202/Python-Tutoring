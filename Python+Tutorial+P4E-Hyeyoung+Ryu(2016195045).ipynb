{
 "cells": [
  {
   "cell_type": "markdown",
   "metadata": {},
   "source": [
    "# Python Tutorial P4E - Hyeyoung Ryu (2016195045)"
   ]
  },
  {
   "cell_type": "markdown",
   "metadata": {},
   "source": [
    "# Installation for Python Tutorial"
   ]
  },
  {
   "cell_type": "markdown",
   "metadata": {},
   "source": [
    "## 1. Installing Python 3 "
   ]
  },
  {
   "cell_type": "markdown",
   "metadata": {},
   "source": [
    "Mac Users\n",
    "1. Open terminal\n",
    "2. Install Homebrew\n",
    "\n",
    "    ruby -e \"$(curl -fsSL https://raw.githubusercontent.com/Homebrew/install/master/install)\"\n",
    "\n",
    "3. Install Python\n",
    "\n",
    "    brew install python\n",
    "    \n",
    "Windows Users\n",
    "1. Go to the website below\n",
    "\n",
    "    https://www.python.org/downloads/windows/\n",
    "    \n",
    "2. Install the Windows x86-64 executable installer\n",
    "3. __WARNING:__ Make sure to click __\"Add Python 3.6 to PATH\"__ before clicking the \"Install Now\" button"
   ]
  },
  {
   "cell_type": "markdown",
   "metadata": {},
   "source": [
    "Python Development Environments\n",
    "- Python IDLE\n",
    "- PyCharm\n",
    "- Jupyter Notebook"
   ]
  },
  {
   "cell_type": "markdown",
   "metadata": {},
   "source": [
    "## 2. Installing Jupyter Notebook"
   ]
  },
  {
   "cell_type": "markdown",
   "metadata": {},
   "source": [
    "1. For Mac users, open terminal and for Windows users, open command prompt\n",
    "2. Type the following\n",
    "    python3 -m pip install -- upgrade pip\n",
    "    python3 -m pip install jupyter\n",
    "3. After having installed jupyter notebook, type \"jupyter notebook\" into terminal or command prompt to use it"
   ]
  },
  {
   "cell_type": "markdown",
   "metadata": {},
   "source": [
    "## 3. Using Jupyter Notebook "
   ]
  },
  {
   "cell_type": "markdown",
   "metadata": {},
   "source": [
    "1. Click \"New\" on the upper right corner of the page\n",
    "2. Click \"Python 3\"\n",
    "3. New notebook will be made\n",
    "4. Write the code on the box next to In [ ]:\n",
    "5. To run the code, click shift and enter at the same time\n",
    "6. Results of the code will be shown below"
   ]
  },
  {
   "cell_type": "markdown",
   "metadata": {},
   "source": [
    "# Before Beginning Python "
   ]
  },
  {
   "cell_type": "markdown",
   "metadata": {},
   "source": [
    "## 1. Why Use Python?"
   ]
  },
  {
   "cell_type": "markdown",
   "metadata": {},
   "source": [
    "- Easy and intuitive language\n",
    "- Innumerous resources\n",
    "- Easy for beginners\n",
    "- Relatively fast development speed"
   ]
  },
  {
   "cell_type": "markdown",
   "metadata": {},
   "source": [
    "## 2. Print() Function"
   ]
  },
  {
   "cell_type": "markdown",
   "metadata": {},
   "source": [
    "- Built-in function\n",
    "- Prints out values to the screen\n",
    "- Can pass several values"
   ]
  },
  {
   "cell_type": "code",
   "execution_count": 1,
   "metadata": {},
   "outputs": [
    {
     "name": "stdout",
     "output_type": "stream",
     "text": [
      "Tom Hiddleston is the sexiest man alive.\n"
     ]
    }
   ],
   "source": [
    "#Prints out the value within the parantheses\n",
    "print(\"Tom Hiddleston is the sexiest man alive.\")"
   ]
  },
  {
   "cell_type": "code",
   "execution_count": 2,
   "metadata": {},
   "outputs": [
    {
     "name": "stdout",
     "output_type": "stream",
     "text": [
      "Black   Panther\n"
     ]
    }
   ],
   "source": [
    "#Can pass several values\n",
    "print (\"Black\", \" \", \"Panther\")"
   ]
  },
  {
   "cell_type": "markdown",
   "metadata": {},
   "source": [
    "## 3. Variables "
   ]
  },
  {
   "cell_type": "markdown",
   "metadata": {},
   "source": [
    "- Location in memory used to store some value\n",
    "- Unique names are given to variables to differentiate between different memory locations\n",
    "- Assignment statement\n",
    "    - Creates new variables and gives them values\n",
    "    - \"=\" is used to assign a value to a variable"
   ]
  },
  {
   "cell_type": "code",
   "execution_count": 3,
   "metadata": {},
   "outputs": [
    {
     "name": "stdout",
     "output_type": "stream",
     "text": [
      "The revival of the TV series 'Friends' was  How I Met Your Mother .\n"
     ]
    }
   ],
   "source": [
    "#Assign string value to the variable series\n",
    "series = \"How I Met Your Mother\"\n",
    "print(\"The revival of the TV series 'Friends' was \", series, \".\")"
   ]
  },
  {
   "cell_type": "markdown",
   "metadata": {},
   "source": [
    "## 4. Comments "
   ]
  },
  {
   "cell_type": "markdown",
   "metadata": {},
   "source": [
    "- Line of text that the Python interpreter completely ignores when executing the code\n",
    "- Use hash symbol (#) to indicate comments\n",
    "    - Can only write a single physical line of comments with #\n",
    "- Use \"\"\" \"\"\" to write many lines of comments\n",
    "- Need to write comments for the code to be understandable to you and other programmers"
   ]
  },
  {
   "cell_type": "code",
   "execution_count": 4,
   "metadata": {
    "collapsed": true
   },
   "outputs": [],
   "source": [
    "#Assign string value to the variable series\n",
    "#The line above and this line is a comment\n",
    "series = \"How I Met Your Mother\""
   ]
  },
  {
   "cell_type": "markdown",
   "metadata": {},
   "source": [
    "## 5. Path "
   ]
  },
  {
   "cell_type": "markdown",
   "metadata": {},
   "source": [
    "- Directory\n",
    "- Works like an address\n",
    "- e.x. your computer's \"Downloads\" folder address\n",
    "    - Window Users: \"C:/Users/username/Downloads\"\n",
    "    - Mac Users: \"/Users/username/Downloads\""
   ]
  },
  {
   "cell_type": "markdown",
   "metadata": {},
   "source": [
    "# Let's Start Python!"
   ]
  },
  {
   "cell_type": "markdown",
   "metadata": {},
   "source": [
    "## 1. Data Types "
   ]
  },
  {
   "cell_type": "markdown",
   "metadata": {},
   "source": [
    "Think of the data types as the __alphabet__ of Python\n",
    "- Numbers\n",
    "- Strings\n",
    "- Boolean\n",
    "- Lists\n",
    "- Tuples\n",
    "- Dictionary\n",
    "- Set"
   ]
  },
  {
   "cell_type": "markdown",
   "metadata": {},
   "source": [
    "### Numbers "
   ]
  },
  {
   "cell_type": "markdown",
   "metadata": {},
   "source": [
    "- Integers\n",
    "    - Round numbers without a decimal point\n",
    "    - e.x. 2, 4, -15\n",
    "- Floating Numbers\n",
    "    - Real numbers\n",
    "    - May have numbers after decimal points\n",
    "    - e.x. 2.7, 4.123, -12.9\n",
    "- Complex Numbers\n",
    "    - Numbers in the form a + bi\n",
    "    - a, b = real numbers\n",
    "    - i = solution of \"x^2 = -1\"\n",
    "    - e.x. 2 + 5i"
   ]
  },
  {
   "cell_type": "markdown",
   "metadata": {},
   "source": [
    "Basic Math"
   ]
  },
  {
   "cell_type": "code",
   "execution_count": 5,
   "metadata": {},
   "outputs": [
    {
     "name": "stdout",
     "output_type": "stream",
     "text": [
      "15\n"
     ]
    }
   ],
   "source": [
    "# Addition (+)\n",
    "print(7+8)"
   ]
  },
  {
   "cell_type": "code",
   "execution_count": 6,
   "metadata": {},
   "outputs": [
    {
     "name": "stdout",
     "output_type": "stream",
     "text": [
      "4\n"
     ]
    }
   ],
   "source": [
    "#Subtraction (-)\n",
    "print(5-1)"
   ]
  },
  {
   "cell_type": "code",
   "execution_count": 7,
   "metadata": {},
   "outputs": [
    {
     "name": "stdout",
     "output_type": "stream",
     "text": [
      "150\n"
     ]
    }
   ],
   "source": [
    "#Multiplication(*)\n",
    "print(15*10)"
   ]
  },
  {
   "cell_type": "code",
   "execution_count": 8,
   "metadata": {},
   "outputs": [
    {
     "name": "stdout",
     "output_type": "stream",
     "text": [
      "4.0\n"
     ]
    }
   ],
   "source": [
    "#Division(/)\n",
    "print(20/5)"
   ]
  },
  {
   "cell_type": "code",
   "execution_count": 9,
   "metadata": {},
   "outputs": [
    {
     "name": "stdout",
     "output_type": "stream",
     "text": [
      "2\n"
     ]
    }
   ],
   "source": [
    "#Modulo(%)\n",
    "#Returns the remainder\n",
    "print(56%9)"
   ]
  },
  {
   "cell_type": "code",
   "execution_count": 10,
   "metadata": {},
   "outputs": [
    {
     "name": "stdout",
     "output_type": "stream",
     "text": [
      "8\n"
     ]
    }
   ],
   "source": [
    "#Exponentiation (**)\n",
    "print(2**3)"
   ]
  },
  {
   "cell_type": "markdown",
   "metadata": {},
   "source": [
    "### Strings "
   ]
  },
  {
   "cell_type": "markdown",
   "metadata": {},
   "source": [
    "- Sequence of letters\n",
    "- Indicating strings\n",
    "    - Single (' ')\n",
    "    - Double (\" \")\n",
    "    - Three of each quotation mark (''' ''', \"\"\" \"\"\")"
   ]
  },
  {
   "cell_type": "code",
   "execution_count": 11,
   "metadata": {},
   "outputs": [
    {
     "name": "stdout",
     "output_type": "stream",
     "text": [
      "Hello World!\n"
     ]
    }
   ],
   "source": [
    "#Assign string \"Hello World!\" to variable hello\n",
    "hello = \"Hello World!\"\n",
    "print(hello)"
   ]
  },
  {
   "cell_type": "markdown",
   "metadata": {},
   "source": [
    "Addition"
   ]
  },
  {
   "cell_type": "code",
   "execution_count": 12,
   "metadata": {},
   "outputs": [
    {
     "name": "stdout",
     "output_type": "stream",
     "text": [
      "My name is Tom Cruise.\n"
     ]
    }
   ],
   "source": [
    "#Let's say that you want to write the sentence \"My name is Tom Cruise.\"\n",
    "#Assign \"Tom\" to variable first_name\n",
    "first_name = \"Tom\"\n",
    "#Assign \"Cruise\" to variable last_name\n",
    "last_name = \"Cruise\"\n",
    "#Strings can be added to create a sentence\n",
    "print(\"My name is \" + first_name + \" \" + last_name + \".\")"
   ]
  },
  {
   "cell_type": "markdown",
   "metadata": {},
   "source": [
    "Multiplication"
   ]
  },
  {
   "cell_type": "code",
   "execution_count": 13,
   "metadata": {},
   "outputs": [
    {
     "name": "stdout",
     "output_type": "stream",
     "text": [
      "Bibidi Babidi BuBibidi Babidi Bu\n"
     ]
    }
   ],
   "source": [
    "#To make your wish come true, you have to say \"Bibidi Babidi Bu\" twice\n",
    "#Assign \"Bibidi Babidi Bu\" to variable cinderella\n",
    "cinderella = \"Bibidi Babidi Bu\"\n",
    "#Strings can be multiplied\n",
    "print(cinderella * 2)"
   ]
  },
  {
   "cell_type": "markdown",
   "metadata": {},
   "source": [
    "Indexing\n",
    "\n",
    "- __Python starts from 0.__ If you want to know the first letter of the word, you have to get index 0, not index 1.\n",
    "- Index of last letter of the word is -1."
   ]
  },
  {
   "cell_type": "code",
   "execution_count": 14,
   "metadata": {},
   "outputs": [
    {
     "name": "stdout",
     "output_type": "stream",
     "text": [
      "s\n",
      "p\n",
      "o\n"
     ]
    }
   ],
   "source": [
    "#Let's say that you want to know the first letter of the word \"supercalifragilisticexpialidocious\"\n",
    "poppins = \"supercalifragilisticexpialidocious\"\n",
    "print(poppins[0])\n",
    "\n",
    "#Let's say that you want to know the third letter of the word\n",
    "print(poppins[2])\n",
    "\n",
    "#Let's say that you want to know the third to last letter of the word\n",
    "#Index of last letter of the word is -1\n",
    "print(poppins[-3])"
   ]
  },
  {
   "cell_type": "code",
   "execution_count": 15,
   "metadata": {},
   "outputs": [
    {
     "name": "stdout",
     "output_type": "stream",
     "text": [
      "taxi\n",
      "super\n"
     ]
    }
   ],
   "source": [
    "#Let's spell \"taxi\" from \"supercalifragilisticexpialidocious\"\n",
    "print(poppins[17] + poppins[6] + poppins[-13] + poppins[-4])\n",
    "\n",
    "#Let's spell \"super\" from \"supercalifragilisticexpialidocious\"\n",
    "print(poppins[0:5])"
   ]
  },
  {
   "cell_type": "markdown",
   "metadata": {},
   "source": [
    "Format"
   ]
  },
  {
   "cell_type": "markdown",
   "metadata": {},
   "source": [
    "- Using the format() method we can add in variable values and generally format our strings\n",
    "    - By using {}, you can assign which part of the string will be filled later\n",
    "    - By using format() function, you can assign the value that goes into {}"
   ]
  },
  {
   "cell_type": "code",
   "execution_count": 16,
   "metadata": {},
   "outputs": [
    {
     "name": "stdout",
     "output_type": "stream",
     "text": [
      "Chandler Bing\n"
     ]
    }
   ],
   "source": [
    "#0 and 1 indicate the order of the words\n",
    "#Chandler will go into the place of 0\n",
    "#Bing will go into the place of 1\n",
    "my_name = \"{0} {1}\".format(\"Chandler\", \"Bing\")\n",
    "print(my_name)"
   ]
  },
  {
   "cell_type": "markdown",
   "metadata": {},
   "source": [
    "- % symbol creates a placeholder\n",
    "- Conversion type\n",
    "    - Whatever character follows % indicates the type of value put into the placeholder\n",
    "    - e.x. %s = string\n",
    "- Need another % after the string has closed\n",
    "    - % will be followed by the values to insert\n",
    "        - In the case of one value, you can just put it there\n",
    "        - If you are inserting more than one value, they must be enclosed in a tuple"
   ]
  },
  {
   "cell_type": "code",
   "execution_count": 17,
   "metadata": {},
   "outputs": [
    {
     "name": "stdout",
     "output_type": "stream",
     "text": [
      "Guardians of the Galaxy has four members.\n",
      "7 bottles of soju makes Kevin go night night.\n"
     ]
    }
   ],
   "source": [
    "#In the case of one value, you can just put it there\n",
    "print(\"Guardians of the Galaxy has %s members.\" % \"four\")\n",
    "\n",
    "#If you are inserting more than one value, they must be enclosed in a tuple\n",
    "print(\"%s bottles of soju makes Kevin %s.\" % (7, \"go night night\"))"
   ]
  },
  {
   "cell_type": "markdown",
   "metadata": {},
   "source": [
    "Functions\n",
    "\n",
    "- count()\n",
    "    - Returns the number of character in the string\n",
    "- find()\n",
    "    - Returns the value of the first position\n",
    "    - If value does not exist, return -1\n",
    "- index()\n",
    "    - Returns the index number\n",
    "- upper()\n",
    "    - Capitalize string\n",
    "- lower()\n",
    "    - Lowercase string\n",
    "- strip()\n",
    "    - Delete spaces for both sides of string\n",
    "- lstrip()\n",
    "    - Delete spaces on left side of string\n",
    "- rstrip()\n",
    "    - Delete spaces on right side of string\n",
    "- split()\n",
    "    - splits string into words\n",
    "- replace()\n",
    "    - replaces part of the string to what you want to change it to"
   ]
  },
  {
   "cell_type": "code",
   "execution_count": 18,
   "metadata": {},
   "outputs": [
    {
     "name": "stdout",
     "output_type": "stream",
     "text": [
      "2\n"
     ]
    }
   ],
   "source": [
    "#Count() returns the number of character in the string\n",
    "a = \"Python is fun.\"\n",
    "print(a.count(\"n\"))"
   ]
  },
  {
   "cell_type": "code",
   "execution_count": 19,
   "metadata": {},
   "outputs": [
    {
     "name": "stdout",
     "output_type": "stream",
     "text": [
      "5\n",
      "-1\n"
     ]
    }
   ],
   "source": [
    "#Find() returns the value of the first position\n",
    "print(a.find(\"n\"))\n",
    "#If value does not exist, return -1\n",
    "print(a.find(\"z\"))"
   ]
  },
  {
   "cell_type": "code",
   "execution_count": 20,
   "metadata": {},
   "outputs": [
    {
     "name": "stdout",
     "output_type": "stream",
     "text": [
      "5\n"
     ]
    }
   ],
   "source": [
    "#Index() returns the index number\n",
    "print(a.index(\"n\"))"
   ]
  },
  {
   "cell_type": "code",
   "execution_count": 21,
   "metadata": {},
   "outputs": [
    {
     "name": "stdout",
     "output_type": "stream",
     "text": [
      "PYTHON IS FUN.\n",
      "python is fun.\n"
     ]
    }
   ],
   "source": [
    "#Upper() capitalizes the string\n",
    "print(a.upper())\n",
    "\n",
    "#Lower() lowercases the string\n",
    "print(a.lower())"
   ]
  },
  {
   "cell_type": "code",
   "execution_count": 22,
   "metadata": {},
   "outputs": [
    {
     "name": "stdout",
     "output_type": "stream",
     "text": [
      "Excessive spaces need to be stripped.\n",
      "Excessive spaces need to be stripped.         \n",
      "       Excessive spaces need to be stripped.\n"
     ]
    }
   ],
   "source": [
    "#Strip() deletes spaces for both sides of string\n",
    "b = \"       Excessive spaces need to be stripped.         \"\n",
    "print(b.strip())\n",
    "\n",
    "#Lstrip() deletes spaces on left side of string\n",
    "print(b.lstrip())\n",
    "\n",
    "#Rstrip() deletes spaces on the right side of string\n",
    "print(b.rstrip())"
   ]
  },
  {
   "cell_type": "code",
   "execution_count": 23,
   "metadata": {},
   "outputs": [
    {
     "name": "stdout",
     "output_type": "stream",
     "text": [
      "['I', 'hate', 'working', 'night', 'and', 'day']\n"
     ]
    }
   ],
   "source": [
    "#Split() splits strings into words\n",
    "sentence = \"I/hate/working/night/and/day\"\n",
    "print(sentence.split(\"/\"))"
   ]
  },
  {
   "cell_type": "code",
   "execution_count": 24,
   "metadata": {},
   "outputs": [
    {
     "data": {
      "text/plain": [
       "'Python is horrible.'"
      ]
     },
     "execution_count": 24,
     "metadata": {},
     "output_type": "execute_result"
    }
   ],
   "source": [
    "#Replace() replaces part of the string to what you want to change it to, so in this case, fun is replaced by horrible\n",
    "a.replace(\"fun\", \"horrible\")"
   ]
  },
  {
   "cell_type": "markdown",
   "metadata": {},
   "source": [
    "### Boolean"
   ]
  },
  {
   "cell_type": "markdown",
   "metadata": {},
   "source": [
    "- Boolean expression is evaluated as either True or False\n",
    "- Relational operators\n",
    "    - == Equal to\n",
    "    - != Not equal to\n",
    "    - < Less than\n",
    "    - <= Less than or equal to\n",
    "    - __>__ Greater than\n",
    "    - __>=__ Greater than or equal to\n",
    "- Logical operators\n",
    "    - and (&)\n",
    "    - or (|)\n",
    "    - not"
   ]
  },
  {
   "cell_type": "code",
   "execution_count": 25,
   "metadata": {},
   "outputs": [
    {
     "name": "stdout",
     "output_type": "stream",
     "text": [
      "True\n",
      "False\n",
      "False\n"
     ]
    }
   ],
   "source": [
    "#And (&)\n",
    "print(True and True)\n",
    "print(True and False)\n",
    "print(False and False)"
   ]
  },
  {
   "cell_type": "code",
   "execution_count": 26,
   "metadata": {},
   "outputs": [
    {
     "name": "stdout",
     "output_type": "stream",
     "text": [
      "True\n",
      "True\n",
      "False\n"
     ]
    }
   ],
   "source": [
    "#Or(|)\n",
    "print(True or True)\n",
    "print(True or False)\n",
    "print(False or False)"
   ]
  },
  {
   "cell_type": "code",
   "execution_count": 27,
   "metadata": {},
   "outputs": [
    {
     "name": "stdout",
     "output_type": "stream",
     "text": [
      "False\n",
      "True\n"
     ]
    }
   ],
   "source": [
    "#Not\n",
    "print(not True)\n",
    "print(not False)"
   ]
  },
  {
   "cell_type": "markdown",
   "metadata": {},
   "source": [
    "### Lists"
   ]
  },
  {
   "cell_type": "markdown",
   "metadata": {},
   "source": [
    "- Ordered collection of object that can contain any data type\n",
    "- Can be defined using brackets []\n",
    "- Element\n",
    "    - Each data in the list"
   ]
  },
  {
   "cell_type": "code",
   "execution_count": 28,
   "metadata": {},
   "outputs": [
    {
     "name": "stdout",
     "output_type": "stream",
     "text": [
      "['Jose Cuervo', 'Bombay Sapphire', 'Baileys', 'KGB', 'Bernini']\n"
     ]
    }
   ],
   "source": [
    "#Make a list called alcohol\n",
    "alcohol = [\"Jose Cuervo\", \"Bombay Sapphire\", \"Baileys\", \"KGB\", \"Bernini\"]\n",
    "print(alcohol)"
   ]
  },
  {
   "cell_type": "markdown",
   "metadata": {},
   "source": [
    "Index\n",
    "- To find a specific element in the list\n",
    "    - type in the index number inside the brackets of \"list name []\""
   ]
  },
  {
   "cell_type": "code",
   "execution_count": 29,
   "metadata": {},
   "outputs": [
    {
     "name": "stdout",
     "output_type": "stream",
     "text": [
      "Jose Cuervo\n"
     ]
    }
   ],
   "source": [
    "#Get the first item from the list alcohol\n",
    "print(alcohol[0])"
   ]
  },
  {
   "cell_type": "code",
   "execution_count": 30,
   "metadata": {},
   "outputs": [
    {
     "name": "stdout",
     "output_type": "stream",
     "text": [
      "['Bombay Sapphire', 'Baileys', 'KGB', 'Bernini']\n",
      "['Baileys', 'KGB']\n",
      "['Jose Cuervo', 'Bombay Sapphire', 'Baileys']\n"
     ]
    }
   ],
   "source": [
    "#Get the items after the first element from the list alcohol\n",
    "print(alcohol[1:])\n",
    "#Get the third and fourth element of the list alcohol\n",
    "print(alcohol[2:4])\n",
    "#Get until the third element from the list alcohol\n",
    "print(alcohol[:3])"
   ]
  },
  {
   "cell_type": "markdown",
   "metadata": {},
   "source": [
    "Combination of Lists\n",
    "\n",
    "- Two different lists can be combined into one list with \"+\""
   ]
  },
  {
   "cell_type": "code",
   "execution_count": 31,
   "metadata": {},
   "outputs": [
    {
     "name": "stdout",
     "output_type": "stream",
     "text": [
      "['10 Things I Hate About You', 'Love Actually', 'Pretty Woman', '50 First Dates', '500 Days of Summer', 'The Conjuring', 'Annabelle', 'It', 'The Shining', 'Scream', 'Paranormal Activity']\n"
     ]
    }
   ],
   "source": [
    "#Make a list called romance containing romance movies\n",
    "romance = [\"10 Things I Hate About You\", \"Love Actually\", \"Pretty Woman\", \"50 First Dates\", \"500 Days of Summer\"]\n",
    "#Make a list called horror containing horror movies\n",
    "horror = [\"The Conjuring\", \"Annabelle\", \"It\", \"The Shining\", \"Scream\", \"Paranormal Activity\"]\n",
    "#Combine the two lists into a list called movies\n",
    "movies = romance + horror\n",
    "print(movies)"
   ]
  },
  {
   "cell_type": "markdown",
   "metadata": {},
   "source": [
    "Functions\n",
    "- len()\n",
    "    - returns the number of elements in a list\n",
    "- count()\n",
    "    - counts how many times the element is repeated in the list\n",
    "- append()\n",
    "    - adds an element to the list\n",
    "- insert()\n",
    "    - adds element into the list if the element is not in the list\n",
    "- extend()\n",
    "    - extends the list\n",
    "- remove()\n",
    "    - removes an element from the list\n",
    "- sort()\n",
    "    - sorts elements in the list\n",
    "- reverse()\n",
    "    - sorts elements in the list in reverse order"
   ]
  },
  {
   "cell_type": "code",
   "execution_count": 32,
   "metadata": {},
   "outputs": [
    {
     "name": "stdout",
     "output_type": "stream",
     "text": [
      "5\n"
     ]
    }
   ],
   "source": [
    "#Return the number of elements in the list romance\n",
    "print(len(romance))"
   ]
  },
  {
   "cell_type": "code",
   "execution_count": 33,
   "metadata": {},
   "outputs": [
    {
     "name": "stdout",
     "output_type": "stream",
     "text": [
      "3\n"
     ]
    }
   ],
   "source": [
    "#Count how many times 2 is repeated in the list\n",
    "list = [2, 3, 4, 2, 5, 2, 9]\n",
    "print(list.count(2))"
   ]
  },
  {
   "cell_type": "code",
   "execution_count": 34,
   "metadata": {},
   "outputs": [
    {
     "name": "stdout",
     "output_type": "stream",
     "text": [
      "['10 Things I Hate About You', 'Love Actually', 'Pretty Woman', '50 First Dates', '500 Days of Summer', 'When Harry Met Sally']\n"
     ]
    }
   ],
   "source": [
    "#Add \"When Harry Met Sally\" to the list romance\n",
    "romance.append(\"When Harry Met Sally\")\n",
    "print(romance)"
   ]
  },
  {
   "cell_type": "code",
   "execution_count": 35,
   "metadata": {},
   "outputs": [
    {
     "name": "stdout",
     "output_type": "stream",
     "text": [
      "[2, 3, 4, 10, 2, 5, 2, 9]\n"
     ]
    }
   ],
   "source": [
    "#Insert() adds element into the list if the element is not in the list\n",
    "#3 will not be added to the list since it is already in the list\n",
    "#10 will be added to list since it is not in the list\n",
    "list = [2, 3, 4, 2, 5, 2, 9]\n",
    "list.insert(3, 10)\n",
    "print(list)"
   ]
  },
  {
   "cell_type": "code",
   "execution_count": 36,
   "metadata": {},
   "outputs": [
    {
     "name": "stdout",
     "output_type": "stream",
     "text": [
      "[1, 2, 3, 4, 5, 'hello', '5', 5]\n"
     ]
    }
   ],
   "source": [
    "#Extend the list with extend()\n",
    "a = [1, 2, 3, 4, 5]\n",
    "a.extend([\"hello\", \"5\", 5])\n",
    "print(a)"
   ]
  },
  {
   "cell_type": "code",
   "execution_count": 37,
   "metadata": {},
   "outputs": [
    {
     "name": "stdout",
     "output_type": "stream",
     "text": [
      "['The Conjuring', 'Annabelle', 'It', 'Scream', 'Paranormal Activity']\n"
     ]
    }
   ],
   "source": [
    "#Remove \"The Shining\" from the list horror\n",
    "horror.remove(\"The Shining\")\n",
    "print(horror)"
   ]
  },
  {
   "cell_type": "code",
   "execution_count": 38,
   "metadata": {},
   "outputs": [
    {
     "name": "stdout",
     "output_type": "stream",
     "text": [
      "[3, 4, 6, 8]\n"
     ]
    }
   ],
   "source": [
    "#Sort elements in list c with sort()\n",
    "c = [6, 4, 8, 3]\n",
    "c.sort()\n",
    "print(c)"
   ]
  },
  {
   "cell_type": "code",
   "execution_count": 39,
   "metadata": {},
   "outputs": [
    {
     "name": "stdout",
     "output_type": "stream",
     "text": [
      "['b', 'c', 'a']\n"
     ]
    }
   ],
   "source": [
    "#Sort elements in list a in reverse order\n",
    "a = [\"a\", \"c\", \"b\"]\n",
    "a.reverse()\n",
    "print(a)"
   ]
  },
  {
   "cell_type": "markdown",
   "metadata": {},
   "source": [
    "### Tuples "
   ]
  },
  {
   "cell_type": "markdown",
   "metadata": {},
   "source": [
    "- Immutable\n",
    "    - Data cannot be changed once it has been generated\n",
    "- When tuple has only one value, a comma must be followed\n",
    "- Bracket can be skipped when assigning variables with tuple"
   ]
  },
  {
   "cell_type": "code",
   "execution_count": 40,
   "metadata": {},
   "outputs": [
    {
     "name": "stdout",
     "output_type": "stream",
     "text": [
      "<class 'tuple'>\n",
      "<class 'tuple'>\n",
      "<class 'tuple'>\n"
     ]
    }
   ],
   "source": [
    "#When tuple has only one value, a comma must be followed\n",
    "tuple1 = (1,)\n",
    "print(type(tuple1))\n",
    "#Bracket can be skipped when assigning variables with tuple\n",
    "tuple2 = (1,2,3)\n",
    "tuple3 = 1,2,3\n",
    "print(type(tuple2))\n",
    "print(type(tuple3))"
   ]
  },
  {
   "cell_type": "markdown",
   "metadata": {},
   "source": [
    "Index\n",
    "- Tuples indexing is similar to lists"
   ]
  },
  {
   "cell_type": "code",
   "execution_count": 41,
   "metadata": {},
   "outputs": [
    {
     "name": "stdout",
     "output_type": "stream",
     "text": [
      "hello\n",
      "(7, 4, 'hello', 'bye', 1, '7')\n"
     ]
    }
   ],
   "source": [
    "tuple4 = (1, 2, 7, 4,\"hello\",\"bye\", 1 ,\"7\")\n",
    "#Get the fifth element in tuple\n",
    "print(tuple4[4])\n",
    "#Get from the third element in tuple\n",
    "print(tuple4[2:])"
   ]
  },
  {
   "cell_type": "markdown",
   "metadata": {},
   "source": [
    "Addition"
   ]
  },
  {
   "cell_type": "code",
   "execution_count": 42,
   "metadata": {},
   "outputs": [
    {
     "name": "stdout",
     "output_type": "stream",
     "text": [
      "(1, 2, 5, 4, 6, 7)\n"
     ]
    }
   ],
   "source": [
    "#Add tuple5 and tuple6\n",
    "tuple5 = (1,2,5)\n",
    "tuple6 = (4,6,7)\n",
    "tuple7 = tuple5 + tuple6\n",
    "print(tuple7)"
   ]
  },
  {
   "cell_type": "markdown",
   "metadata": {},
   "source": [
    "Multiplication"
   ]
  },
  {
   "cell_type": "code",
   "execution_count": 43,
   "metadata": {},
   "outputs": [
    {
     "name": "stdout",
     "output_type": "stream",
     "text": [
      "(1, 2, 5, 1, 2, 5)\n"
     ]
    }
   ],
   "source": [
    "#Multiply tuple5 two times\n",
    "print(tuple5*2)"
   ]
  },
  {
   "cell_type": "markdown",
   "metadata": {},
   "source": [
    "### Dictionary "
   ]
  },
  {
   "cell_type": "markdown",
   "metadata": {},
   "source": [
    "- Map between key set and value set\n",
    "- Set of pairs of (key, value)\n",
    "- Key must be immutable\n",
    "- Combination of curly brackets { } and colons :\n",
    "    - Curly brakcets define the beginning and end of a dictionary\n",
    "    - Colons indicate key-value pairs\n",
    "- __CAUTION:__ Dictionary key is a __unique__ value\n",
    "    - Same key cannot be used again\n",
    "    - List cannot be used in the key"
   ]
  },
  {
   "cell_type": "code",
   "execution_count": 44,
   "metadata": {
    "collapsed": true
   },
   "outputs": [],
   "source": [
    "#Create a personal_info dictionary containing the keys name, email, and birthday\n",
    "personal_info = {\"name\":\"Sarah\",\n",
    "                 \"email\":\"hocuspocus@gmail.com\",\n",
    "                 \"birthday\":\"19001031\"}"
   ]
  },
  {
   "cell_type": "markdown",
   "metadata": {},
   "source": [
    "Functions"
   ]
  },
  {
   "cell_type": "markdown",
   "metadata": {},
   "source": [
    "- Keys()\n",
    "    - Retrieves only keys from the dictionary\n",
    "- Values()\n",
    "    - Retrieves only values from the dictionary\n",
    "- Items()\n",
    "    - Retrieves keys and values pairs from the dictionary\n",
    "- Get()\n",
    "    - Gets values with keys"
   ]
  },
  {
   "cell_type": "code",
   "execution_count": 45,
   "metadata": {
    "scrolled": true
   },
   "outputs": [
    {
     "name": "stdout",
     "output_type": "stream",
     "text": [
      "dict_keys(['Twice', 'Blackpink', 'Bigbang', 'BTS'])\n"
     ]
    }
   ],
   "source": [
    "idols = {\"Twice\": [\"Jihyo\",\"Nayeon\",\"Jungyeon\",\"Momo\",\"Sana\",\"Mina\",\"Dahyun\",\"Chaeyoung\",\"Tzuyu\"], \"Blackpink\": [\"Jisu\",\"Jennie\",\"Rose\",\"Lisa\"], \"Bigbang\": [\"GD\",\"TOP\",\"Taeyang\",\"Daesung\",\"Seungri\"], \"BTS\": [\"RM\",\"Suga\",\"Jin\",\"J-Hope\",\"Jimin\",\"V\",\"Jungkook\"]}\n",
    "#Retrieve the keys from idols dictionary\n",
    "print(idols.keys())"
   ]
  },
  {
   "cell_type": "code",
   "execution_count": 46,
   "metadata": {},
   "outputs": [
    {
     "name": "stdout",
     "output_type": "stream",
     "text": [
      "dict_values([['Jihyo', 'Nayeon', 'Jungyeon', 'Momo', 'Sana', 'Mina', 'Dahyun', 'Chaeyoung', 'Tzuyu'], ['Jisu', 'Jennie', 'Rose', 'Lisa'], ['GD', 'TOP', 'Taeyang', 'Daesung', 'Seungri'], ['RM', 'Suga', 'Jin', 'J-Hope', 'Jimin', 'V', 'Jungkook']])\n"
     ]
    }
   ],
   "source": [
    "#Retrieve the values from idols dictionary\n",
    "print(idols.values())"
   ]
  },
  {
   "cell_type": "code",
   "execution_count": 47,
   "metadata": {},
   "outputs": [
    {
     "name": "stdout",
     "output_type": "stream",
     "text": [
      "dict_items([('Twice', ['Jihyo', 'Nayeon', 'Jungyeon', 'Momo', 'Sana', 'Mina', 'Dahyun', 'Chaeyoung', 'Tzuyu']), ('Blackpink', ['Jisu', 'Jennie', 'Rose', 'Lisa']), ('Bigbang', ['GD', 'TOP', 'Taeyang', 'Daesung', 'Seungri']), ('BTS', ['RM', 'Suga', 'Jin', 'J-Hope', 'Jimin', 'V', 'Jungkook'])])\n"
     ]
    }
   ],
   "source": [
    "#Retrieve keys and values pairs from the idols dictionary\n",
    "print(idols.items())"
   ]
  },
  {
   "cell_type": "code",
   "execution_count": 48,
   "metadata": {},
   "outputs": [
    {
     "name": "stdout",
     "output_type": "stream",
     "text": [
      "['RM', 'Suga', 'Jin', 'J-Hope', 'Jimin', 'V', 'Jungkook']\n"
     ]
    }
   ],
   "source": [
    "#Get values with keys for \"BTS\" from the idols dictionary\n",
    "print(idols.get(\"BTS\"))"
   ]
  },
  {
   "cell_type": "markdown",
   "metadata": {},
   "source": [
    "### Sets"
   ]
  },
  {
   "cell_type": "markdown",
   "metadata": {},
   "source": [
    "- Made with set() function\n",
    "- Does not allow repetitive values\n",
    "- Unordered\n",
    "    - Cannot be indexed or sliced"
   ]
  },
  {
   "cell_type": "code",
   "execution_count": 1,
   "metadata": {
    "scrolled": true
   },
   "outputs": [
    {
     "name": "stdout",
     "output_type": "stream",
     "text": [
      "{1, 2, 3} {'s', 'T', 'e', 't', 'i', 'h', ' '}\n"
     ]
    }
   ],
   "source": [
    "s1 = set([1,2,3])\n",
    "s2 = set(\"This is set\")\n",
    "print (s1, s2)"
   ]
  },
  {
   "cell_type": "markdown",
   "metadata": {},
   "source": [
    "Index\n",
    "- To index or slice sets, convert set to tuples or lists"
   ]
  },
  {
   "cell_type": "code",
   "execution_count": 2,
   "metadata": {},
   "outputs": [
    {
     "name": "stdout",
     "output_type": "stream",
     "text": [
      "['s', 'T', 'e', 't', 'i', 'h', ' ']\n",
      "i\n"
     ]
    }
   ],
   "source": [
    "s1 = set([1,2,3])\n",
    "s2 = set(\"This is set\")\n",
    "#Convert set s2 to list l2\n",
    "l2 = list(s2)\n",
    "print(l2)\n",
    "#Find the fifth element in l2\n",
    "print(l2[4])"
   ]
  },
  {
   "cell_type": "markdown",
   "metadata": {},
   "source": [
    "__SIDE NOTE:__ Type Conversion\n",
    "- Built-in functions for type conversion\n",
    "    - Int()\n",
    "    - Float()\n",
    "    - Str()\n",
    "    - Round()"
   ]
  },
  {
   "cell_type": "code",
   "execution_count": 3,
   "metadata": {},
   "outputs": [
    {
     "name": "stdout",
     "output_type": "stream",
     "text": [
      "<class 'int'>\n",
      "<class 'float'>\n",
      "<class 'str'>\n",
      "<class 'int'>\n"
     ]
    }
   ],
   "source": [
    "a = int(3.14)\n",
    "print(type(a))\n",
    "\n",
    "b = float(\"123.4\")\n",
    "print(type(b))\n",
    "\n",
    "c = str(25)\n",
    "print(type(c))\n",
    "\n",
    "d = round(1.23)\n",
    "print(type(d))"
   ]
  },
  {
   "cell_type": "markdown",
   "metadata": {},
   "source": [
    "Intersection"
   ]
  },
  {
   "cell_type": "code",
   "execution_count": 4,
   "metadata": {},
   "outputs": [
    {
     "name": "stdout",
     "output_type": "stream",
     "text": [
      "{8, 2}\n",
      "{8, 2}\n"
     ]
    }
   ],
   "source": [
    "a = set([1,2,5,7,8,9])\n",
    "b = set([2,6,3,8,4])\n",
    "print(a & b)\n",
    "print(a.intersection(b))"
   ]
  },
  {
   "cell_type": "markdown",
   "metadata": {},
   "source": [
    "Union"
   ]
  },
  {
   "cell_type": "code",
   "execution_count": 5,
   "metadata": {},
   "outputs": [
    {
     "name": "stdout",
     "output_type": "stream",
     "text": [
      "{1, 2, 3, 4, 5, 6, 7, 8, 9}\n",
      "{1, 2, 3, 4, 5, 6, 7, 8, 9}\n"
     ]
    }
   ],
   "source": [
    "a = set([1,2,5,7,8,9])\n",
    "b = set([2,6,3,8,4])\n",
    "print(a | b)\n",
    "print(a.union(b))"
   ]
  },
  {
   "cell_type": "markdown",
   "metadata": {},
   "source": [
    "Subtraction"
   ]
  },
  {
   "cell_type": "code",
   "execution_count": 6,
   "metadata": {},
   "outputs": [
    {
     "name": "stdout",
     "output_type": "stream",
     "text": [
      "{1, 5, 9, 7}\n",
      "{1, 5, 9, 7}\n"
     ]
    }
   ],
   "source": [
    "a = set([1,2,5,7,8,9])\n",
    "b = set([2,6,3,8,4])\n",
    "print(a - b)\n",
    "print(a.difference(b))"
   ]
  },
  {
   "cell_type": "markdown",
   "metadata": {},
   "source": [
    "Functions\n",
    "- Add()\n",
    "    - Adding a value to the set\n",
    "- Remove()\n",
    "    - Adding multiple values to the set\n",
    "- Update()\n",
    "    - Removing a value from the set"
   ]
  },
  {
   "cell_type": "code",
   "execution_count": 7,
   "metadata": {},
   "outputs": [
    {
     "name": "stdout",
     "output_type": "stream",
     "text": [
      "{1, 4, 6, 7, 9}\n"
     ]
    }
   ],
   "source": [
    "#add function\n",
    "s1 = set([1,4,6,7])\n",
    "s1.add(9)\n",
    "print(s1)"
   ]
  },
  {
   "cell_type": "code",
   "execution_count": 8,
   "metadata": {},
   "outputs": [
    {
     "name": "stdout",
     "output_type": "stream",
     "text": [
      "{1, 3, 4, 5, 6, 8}\n"
     ]
    }
   ],
   "source": [
    "#update function\n",
    "s2 = set([5,8,3])\n",
    "s2.update([1,4,5,6])\n",
    "print(s2)"
   ]
  },
  {
   "cell_type": "code",
   "execution_count": 9,
   "metadata": {},
   "outputs": [
    {
     "name": "stdout",
     "output_type": "stream",
     "text": [
      "{8, 1, 5}\n"
     ]
    }
   ],
   "source": [
    "#remove function\n",
    "s3 = set([2,5,8,1])\n",
    "s3.remove(2)\n",
    "print(s3)"
   ]
  },
  {
   "cell_type": "markdown",
   "metadata": {},
   "source": [
    "## 2. Control Statements "
   ]
  },
  {
   "cell_type": "markdown",
   "metadata": {},
   "source": [
    "### If Conditional Statement"
   ]
  },
  {
   "cell_type": "markdown",
   "metadata": {},
   "source": [
    "- Statement that may or may not be executed depending on certain conditions that the code specifies\n",
    "- Condition part is when Boolean data types and logical operators are used frequently\n",
    "- If-Elif-Else"
   ]
  },
  {
   "cell_type": "code",
   "execution_count": 10,
   "metadata": {},
   "outputs": [
    {
     "name": "stdout",
     "output_type": "stream",
     "text": [
      "You may watch, but you have to watch with a guardian.\n"
     ]
    }
   ],
   "source": [
    "#Let’s say that you are 15 years old, but want to watch Deadpool 2 which is a R-rated movie.\n",
    "my_age = 15\n",
    "if my_age >= 19:\n",
    "    print (\"Go ahead and chill with Deadpool!\")\n",
    "elif 19 > my_age >= 15:\n",
    "    print (\"You may watch, but you have to watch with a guardian.\")\n",
    "else:\n",
    "    print(\"Go home honey.\")"
   ]
  },
  {
   "cell_type": "markdown",
   "metadata": {},
   "source": [
    "### For Loop"
   ]
  },
  {
   "cell_type": "markdown",
   "metadata": {},
   "source": [
    "For is a loop statement used for going through values or iterating over any sequences (tuple, list, string)"
   ]
  },
  {
   "cell_type": "code",
   "execution_count": 11,
   "metadata": {},
   "outputs": [
    {
     "name": "stdout",
     "output_type": "stream",
     "text": [
      "0\n",
      "3\n",
      "6\n",
      "9\n"
     ]
    }
   ],
   "source": [
    "#print items in the list with the for loop\n",
    "list = [0, 3, 6, 9]\n",
    "for item in list:\n",
    "    print(item)"
   ]
  },
  {
   "cell_type": "markdown",
   "metadata": {},
   "source": [
    "### While Loop"
   ]
  },
  {
   "cell_type": "markdown",
   "metadata": {},
   "source": [
    "While loop statements are repeated while a certain condition is met.\n",
    "\n",
    "When condition becomes false, the loop stops."
   ]
  },
  {
   "cell_type": "code",
   "execution_count": 12,
   "metadata": {},
   "outputs": [
    {
     "name": "stdout",
     "output_type": "stream",
     "text": [
      "Jennifer Aniston had to audition 1 times.\n",
      "Jennifer Aniston had to audition 2 times.\n",
      "Jennifer Aniston had to audition 3 times.\n",
      "Jennifer Aniston had to audition 4 times.\n",
      "Jennifer Aniston had to audition 5 times.\n",
      "Jennifer Aniston had to audition 6 times.\n",
      "Jennifer Aniston had to audition 7 times.\n",
      "Jennifer Aniston had to audition 8 times.\n",
      "Jennifer Aniston had to audition 9 times.\n",
      "Jennifer Aniston had to audition 10 times.\n",
      "Jennifer Aniston got to play Rachel on Friends.\n"
     ]
    }
   ],
   "source": [
    "#Initiate the loop\n",
    "audition = 0\n",
    "#While the audition is under 10, add one to audition\n",
    "#Print the string everytime one is added to audition\n",
    "while audition < 10:\n",
    "    audition = audition +1\n",
    "    print(\"Jennifer Aniston had to audition %d times.\" % audition)\n",
    "#When audition reaches ten, print the following sentence\n",
    "if audition == 10:\n",
    "    print(\"Jennifer Aniston got to play Rachel on Friends.\")"
   ]
  },
  {
   "cell_type": "markdown",
   "metadata": {},
   "source": [
    "Break, Continue, Pass\n",
    "- Break\n",
    "    - When triggered, breaks out of the loop\n",
    "- Continue\n",
    "    - When triggered, skips part of the loop\n",
    "- Pass\n",
    "    - Runs entire loop"
   ]
  },
  {
   "cell_type": "code",
   "execution_count": 13,
   "metadata": {},
   "outputs": [
    {
     "name": "stdout",
     "output_type": "stream",
     "text": [
      "Number is 1\n",
      "Number is 2\n",
      "Number is 3\n",
      "Number is 4\n"
     ]
    }
   ],
   "source": [
    "#Break will cut off the loop from 5\n",
    "number = 0\n",
    "for number in range (10):\n",
    "    number = number + 1\n",
    "    if number == 5:\n",
    "        break\n",
    "    print (\"Number is \" + str(number))"
   ]
  },
  {
   "cell_type": "code",
   "execution_count": 14,
   "metadata": {},
   "outputs": [
    {
     "name": "stdout",
     "output_type": "stream",
     "text": [
      "Number is 1\n",
      "Number is 2\n",
      "Number is 3\n",
      "Number is 4\n",
      "Number is 6\n",
      "Number is 7\n",
      "Number is 8\n",
      "Number is 9\n",
      "Number is 10\n"
     ]
    }
   ],
   "source": [
    "#Break will skip the case when number is 5\n",
    "number = 0\n",
    "for number in range (10):\n",
    "    number = number + 1\n",
    "    if number == 5:\n",
    "        continue\n",
    "    print (\"Number is \" + str(number))"
   ]
  },
  {
   "cell_type": "code",
   "execution_count": 15,
   "metadata": {},
   "outputs": [
    {
     "name": "stdout",
     "output_type": "stream",
     "text": [
      "Number is 1\n",
      "Number is 2\n",
      "Number is 3\n",
      "Number is 4\n",
      "Number is 5\n",
      "Number is 6\n",
      "Number is 7\n",
      "Number is 8\n",
      "Number is 9\n",
      "Number is 10\n"
     ]
    }
   ],
   "source": [
    "#Pass will run the entire loop\n",
    "number = 0\n",
    "for number in range (10):\n",
    "    number = number + 1\n",
    "    if number == 5:\n",
    "        pass\n",
    "    print (\"Number is \" + str(number))"
   ]
  },
  {
   "cell_type": "markdown",
   "metadata": {},
   "source": [
    "## 3. Functions"
   ]
  },
  {
   "cell_type": "markdown",
   "metadata": {},
   "source": [
    "### Indentation "
   ]
  },
  {
   "cell_type": "markdown",
   "metadata": {},
   "source": [
    "- Indent using the \"tab\" key\n",
    "- 4 spaces = 1 indentation\n",
    "- Code block\n",
    "    - Group of statements that perform a task together\n",
    "        - e.x. functions\n",
    "    - Indented statements + preceding header\n",
    "        - Begins with a header that is followed by one or more statements that are indented with respect to the header"
   ]
  },
  {
   "cell_type": "markdown",
   "metadata": {},
   "source": [
    "### Functions\n"
   ]
  },
  {
   "cell_type": "markdown",
   "metadata": {},
   "source": [
    "- Sequence of statements that performs a computation\n",
    "- Takes an argument\n",
    "- Returns a result\n",
    "- Built-in or defined by user\n",
    "- Call the function by name and parameter(s)"
   ]
  },
  {
   "cell_type": "markdown",
   "metadata": {},
   "source": [
    "Built-In Functions"
   ]
  },
  {
   "cell_type": "markdown",
   "metadata": {},
   "source": [
    "- Can be called without having to newly define them\n",
    "- e.x. input() function\n",
    "    - Receives user input and returns the input\n",
    "    - input (prompt)\n",
    "        - Prompt is a string and the message that appears to the user when inputting values"
   ]
  },
  {
   "cell_type": "code",
   "execution_count": 19,
   "metadata": {},
   "outputs": [
    {
     "name": "stdout",
     "output_type": "stream",
     "text": [
      "Who will sit on the throne in the end? Sansa Stark\n"
     ]
    },
    {
     "data": {
      "text/plain": [
       "'Sansa Stark'"
      ]
     },
     "execution_count": 19,
     "metadata": {},
     "output_type": "execute_result"
    }
   ],
   "source": [
    "#Input() function receives user input and returns the input\n",
    "game_of_thrones = input(\"Who will sit on the throne in the end? \")\n",
    "game_of_thrones"
   ]
  },
  {
   "cell_type": "markdown",
   "metadata": {},
   "source": [
    "Defining Functions\n",
    "- Define a funciton with keyword __def__ and parameters\n",
    "- Header ends with a colon\n",
    "- Body is indented\n",
    "- Docstring\n",
    "    - Describes what the function does\n",
    "    - Write inside \"\"\" \"\"\""
   ]
  },
  {
   "cell_type": "code",
   "execution_count": 20,
   "metadata": {},
   "outputs": [
    {
     "name": "stdout",
     "output_type": "stream",
     "text": [
      "Winter is coming. Be prepared Sansa Stark.\n"
     ]
    }
   ],
   "source": [
    "#Define game_of_thrones_greeting(person)\n",
    "def game_of_thrones_greeting(person):\n",
    "    \"\"\"This function greets people in a game of thrones way.\"\"\"\n",
    "    print (\"Winter is coming. \" + \"Be prepared \" + person + \".\")\n",
    "#Call game_of_thrones_greeting with person parameter equaling Sansa Stark\n",
    "game_of_thrones_greeting (\"Sansa Stark\") "
   ]
  },
  {
   "cell_type": "markdown",
   "metadata": {},
   "source": [
    "Return Statement\n",
    "- Allows you to return to a result from a function\n",
    "- Used to exit a function and go back to the place from where it was called\n",
    "- Can call a function inside another function"
   ]
  },
  {
   "cell_type": "code",
   "execution_count": 21,
   "metadata": {},
   "outputs": [
    {
     "data": {
      "text/plain": [
       "31"
      ]
     },
     "execution_count": 21,
     "metadata": {},
     "output_type": "execute_result"
    }
   ],
   "source": [
    "#Define add_ten(value) function which adds ten to the value\n",
    "def add_ten(value):\n",
    "    \"\"\"This function adds ten to the value.\"\"\"\n",
    "    result = value + 10\n",
    "    return result\n",
    "#Use add_ten fucntion to 21\n",
    "add_ten(21)"
   ]
  },
  {
   "cell_type": "markdown",
   "metadata": {},
   "source": [
    "## 4. Modules "
   ]
  },
  {
   "cell_type": "markdown",
   "metadata": {},
   "source": [
    "### Installing Modules "
   ]
  },
  {
   "cell_type": "markdown",
   "metadata": {},
   "source": [
    "- Windows Users\n",
    "    - Use command prompt\n",
    "- Mac Users\n",
    "    - Use terminal\n",
    "- Call pip to install required python modules\n",
    "    - In command prompt or terminal, type either of the following\n",
    "        - pip3 install module_name\n",
    "        - python3 -m pip install module_name"
   ]
  },
  {
   "cell_type": "markdown",
   "metadata": {},
   "source": [
    "### Using Modules "
   ]
  },
  {
   "cell_type": "code",
   "execution_count": 22,
   "metadata": {},
   "outputs": [
    {
     "data": {
      "text/html": [
       "\n",
       "        <iframe\n",
       "            width=\"800\"\n",
       "            height=\"300\"\n",
       "            src=\"http://yscec.yonsei.ac.kr\"\n",
       "            frameborder=\"0\"\n",
       "            allowfullscreen\n",
       "        ></iframe>\n",
       "        "
      ],
      "text/plain": [
       "<IPython.lib.display.IFrame at 0x10bac5550>"
      ]
     },
     "execution_count": 22,
     "metadata": {},
     "output_type": "execute_result"
    }
   ],
   "source": [
    "#Let's open up yscec from jupyter notebook using IFrame\n",
    "from IPython.display import IFrame\n",
    "IFrame(\"http://yscec.yonsei.ac.kr\", width = 800, height = 300)"
   ]
  },
  {
   "cell_type": "markdown",
   "metadata": {},
   "source": [
    "## 5. Class"
   ]
  },
  {
   "cell_type": "markdown",
   "metadata": {},
   "source": [
    "- Data structure that can be reused and extended according to object-oriented programming paradigm\n",
    "- Class\n",
    "    - Cookie frame\n",
    "- Object\n",
    "    - Cookie"
   ]
  },
  {
   "cell_type": "code",
   "execution_count": 23,
   "metadata": {
    "collapsed": true
   },
   "outputs": [],
   "source": [
    "#Making class Employee\n",
    "class Employee:\n",
    "    \"\"\"Common basic information of all employees\"\"\"\n",
    "    empNum = 0\n",
    "    #__init__ constructs an instance of a class\n",
    "    def __init__(self, name, salary):\n",
    "        self.name = name\n",
    "        self.salary = salary\n",
    "        Employee.empNum += 1\n",
    "    #show_empNum(self) function returns the total employee number.\n",
    "    def show_empNum(self):\n",
    "        print (\"Total Employee Number is {0}\".format(Employee.empNum))\n",
    "    #show_empInfo(self) function returns the name of the employee and his or her salary\n",
    "    def show_empInfo(self):\n",
    "        print (\"Name: \", self.name, \", Salary: \", self.salary)"
   ]
  },
  {
   "cell_type": "code",
   "execution_count": 24,
   "metadata": {
    "collapsed": true
   },
   "outputs": [],
   "source": [
    "#Shaping objects\n",
    "emp1 = Employee(\"Angie\",\"5000\")\n",
    "emp2 = Employee(\"Mike\",\"4000\")\n",
    "emp3 = Employee(\"Brian\",\"3000\")"
   ]
  },
  {
   "cell_type": "code",
   "execution_count": 25,
   "metadata": {},
   "outputs": [
    {
     "name": "stdout",
     "output_type": "stream",
     "text": [
      "Name:  Mike , Salary:  4000\n",
      "Total Employee Number is 3\n"
     ]
    }
   ],
   "source": [
    "#Using functions defined in the class\n",
    "emp2.show_empInfo()\n",
    "emp3.show_empNum()"
   ]
  },
  {
   "cell_type": "markdown",
   "metadata": {},
   "source": [
    "# Let's Take It To The Next Level!"
   ]
  },
  {
   "cell_type": "markdown",
   "metadata": {},
   "source": [
    "## Exercise 1 \n",
    "- Add all the even numbers that exist from 0 to 100"
   ]
  },
  {
   "cell_type": "code",
   "execution_count": 26,
   "metadata": {},
   "outputs": [
    {
     "name": "stdout",
     "output_type": "stream",
     "text": [
      "2550\n"
     ]
    }
   ],
   "source": [
    "#Step 1: From 0 to 100, the numbers increase by adding one to the previous number\n",
    "num = 0\n",
    "sum = 0\n",
    "while num <= 100:\n",
    "    num = num + 1\n",
    "#Step 2: Get the even numbers from the numebrs from 0 to 100\n",
    "    if num % 2 == 0:\n",
    "#Step 3: Add all the even numbers and save into a variable called sum\n",
    "        sum = sum + num\n",
    "#Step 4: Check the answer by printing the sum variable\n",
    "print(sum)"
   ]
  },
  {
   "cell_type": "markdown",
   "metadata": {},
   "source": [
    "## Exercise 2\n",
    "- Create a Fibonacci Sequence\n",
    "    - You are given the first three numbers of the Fibonacci sequence\n",
    "        - F = [0, 1, 1]\n",
    "- Create a for loop to determine the next 20 numbers of the Fibonacci sequence\n",
    "- Print F with the final 23 numbers\n",
    "- Use F.append() to add a new Fibonacci value to the end of the list F"
   ]
  },
  {
   "cell_type": "code",
   "execution_count": 27,
   "metadata": {},
   "outputs": [
    {
     "name": "stdout",
     "output_type": "stream",
     "text": [
      "[0, 1, 1, 2, 3, 5, 8, 13, 21, 34, 55, 89, 144, 233, 377, 610, 987, 1597, 2584, 4181, 6765, 10946, 17711]\n"
     ]
    }
   ],
   "source": [
    "#Step 1: Create a list with teh first three numbers of the Fibonacci sequence\n",
    "F = [0, 1, 1]\n",
    "#Step 2: Create a for loop to find the numbers in the Fibonacci series in the range (3, 23)\n",
    "for i in range (3, 23):\n",
    "    F.append(F[-1] + F[-2])\n",
    "#Step 3: Print the Fibonacci numbers on the list \"F\"\n",
    "print(F)"
   ]
  },
  {
   "cell_type": "markdown",
   "metadata": {},
   "source": [
    "# Check Out These Websites To Learn More About Python"
   ]
  },
  {
   "cell_type": "markdown",
   "metadata": {},
   "source": [
    "- https://www.programiz.com/python-programming\n",
    "- https://www.udacity.com/course/programming-foundations-with-python--ud036\n",
    "- https://teamtreehouse.com/learn/python\n",
    "- https://www.codeacademy.com/learn/learn-python"
   ]
  }
 ],
 "metadata": {
  "kernelspec": {
   "display_name": "Python 3",
   "language": "python",
   "name": "python3"
  },
  "language_info": {
   "codemirror_mode": {
    "name": "ipython",
    "version": 3
   },
   "file_extension": ".py",
   "mimetype": "text/x-python",
   "name": "python",
   "nbconvert_exporter": "python",
   "pygments_lexer": "ipython3",
   "version": "3.6.5"
  }
 },
 "nbformat": 4,
 "nbformat_minor": 2
}
