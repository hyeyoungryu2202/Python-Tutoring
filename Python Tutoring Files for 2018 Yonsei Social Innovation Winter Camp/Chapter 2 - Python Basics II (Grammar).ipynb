{
 "cells": [
  {
   "cell_type": "markdown",
   "metadata": {},
   "source": [
    "# Chapter 2 - Python Basics II (Python 기초 II)"
   ]
  },
  {
   "cell_type": "markdown",
   "metadata": {},
   "source": [
    "In the previous chapter, we learned about different data types. In comparison to learning English, we finished our alphabets. This chapter will cover how to use data types. It is time to learn about Pythonic grammar!\n",
    "\n",
    "이전 장에서는 다양한 데이터 유형에 대해 배웠다. 영어를 배우는 것에 비유하자면, 알파벳 공부를 한 것이다. 이 장에서는 데이터 유형을 이용하는 방법에 대해 배울 것이다. Python의 문법에 대해 배우는 시간이다."
   ]
  },
  {
   "cell_type": "markdown",
   "metadata": {},
   "source": [
    "------------------------------"
   ]
  },
  {
   "cell_type": "markdown",
   "metadata": {},
   "source": [
    "## Variables (변수)"
   ]
  },
  {
   "cell_type": "markdown",
   "metadata": {},
   "source": [
    "We have already learned about assigning variables with different data types. In this section, more advanced approach of assigning variables will be shown.\n",
    "\n",
    "우리는 이미 다양한 데이터 유형에서 변수를 할당하는 법을 배웠다. 이 장에서는 변수를 할당하는 보다 심화된 방법들을 보여줄 것이다."
   ]
  },
  {
   "cell_type": "code",
   "execution_count": 3,
   "metadata": {},
   "outputs": [
    {
     "name": "stdout",
     "output_type": "stream",
     "text": [
      "Python\n",
      "Grammar\n",
      "Maplestory\n",
      "Crazy Arcade\n"
     ]
    }
   ],
   "source": [
    "# You can assign variables like this\n",
    "# 다음과 같이 변수를 할당할 수 있다\n",
    "a,b = (\"Python\", \"Grammar\")\n",
    "\n",
    "print(a)\n",
    "print(b)\n",
    "\n",
    "# Remember, that tuple can skip brackets!\n",
    "# 튜플에서 괄호는 생략될 수 있다는 것을 기억하자!\n",
    "c,d = \"Maplestory\", \"Crazy Arcade\"\n",
    "\n",
    "print(c)\n",
    "print(d)"
   ]
  },
  {
   "cell_type": "code",
   "execution_count": 6,
   "metadata": {},
   "outputs": [
    {
     "name": "stdout",
     "output_type": "stream",
     "text": [
      "python\n",
      "python\n"
     ]
    }
   ],
   "source": [
    "e = f = \"python\"\n",
    "print(e)\n",
    "print(f)"
   ]
  },
  {
   "cell_type": "code",
   "execution_count": 7,
   "metadata": {},
   "outputs": [
    {
     "name": "stdout",
     "output_type": "stream",
     "text": [
      "Coding\n",
      "is fun\n"
     ]
    }
   ],
   "source": [
    "[g,h] = [\"Coding\",\"is fun\"]\n",
    "print(g)\n",
    "print(h)"
   ]
  },
  {
   "cell_type": "markdown",
   "metadata": {},
   "source": [
    "You can switch or reassign values like this.\n",
    "\n",
    "다음과 같이 값을 바꾸거나 재할당할 수 있다."
   ]
  },
  {
   "cell_type": "code",
   "execution_count": 9,
   "metadata": {},
   "outputs": [
    {
     "name": "stdout",
     "output_type": "stream",
     "text": [
      "5\n",
      "3\n"
     ]
    }
   ],
   "source": [
    "a = 3\n",
    "b = 5\n",
    "\n",
    "# Switch!\n",
    "a,b = b,a\n",
    "\n",
    "print(a)\n",
    "print(b)"
   ]
  },
  {
   "cell_type": "code",
   "execution_count": 11,
   "metadata": {
    "scrolled": true
   },
   "outputs": [
    {
     "name": "stdout",
     "output_type": "stream",
     "text": [
      "5\n"
     ]
    }
   ],
   "source": [
    "a = 4\n",
    "\n",
    "# reassigning variable a\n",
    "a = a+1\n",
    "print(a)"
   ]
  },
  {
   "cell_type": "markdown",
   "metadata": {},
   "source": [
    "------------------------------"
   ]
  },
  {
   "cell_type": "markdown",
   "metadata": {},
   "source": [
    "## Control Statements (제어문)\n",
    "\n",
    "Control and Loop statements are the basic structure of coding. They are the algorithm and flow of the code execution. Codes are executed line by line, one at a time from top to bottom. The sequence of statements that are executed is referred to as the __flow of control__. The flow of control can be changed with the control statements: conditional and loop statements.\n",
    "\n",
    "조건(conditional)문과 루프(loop)문은 코딩의 기본적은 구조를 이룬다. 코드는 한줄씩 위에서 밑으로 실행된다. 실행되는 코드의 순서를 가리켜 <div>__flow of control__이라고 한다. flow of control은 제어문인 조건문과 루프문을 이용해 바꿀 수 있다.</div>\n",
    "\n",
    "_conditional_\n",
    "- if\n",
    "\n",
    "_loop_\n",
    "- while\n",
    "- for\n",
    "\n",
    "When using these control statements, __Indentation__ and __:__ is very very very important. Conditional and Loop statements are frequently used together.\n",
    "\n",
    "<div> 제어문을 사용할 때, __띄어쓰기__와 __:__는 매우 중요하다. 조건문과 루프문은 자주 함께 사용된다. </div>"
   ]
  },
  {
   "cell_type": "markdown",
   "metadata": {},
   "source": [
    "### Conditional Statement - if (if 조건문)\n",
    "\n",
    "Conditional statements are statements that may or may not be executed depending on certain conditions that the code specifies. The condition part is where __Boolean data types__ and __logical operators__ are used frequently.\n",
    "\n",
    "조건문은 특정 조건에 따라 실행 여부가 결정된다. 조건 부분에서 __Boolean data types__ 그리고 __logical operators(논리 연산자)__ 가 자주 이용된다."
   ]
  },
  {
   "cell_type": "markdown",
   "metadata": {},
   "source": [
    "Example)\n",
    "\n",
    "Let's assume that there is a movie rated R, which means that the movie can only be watched by people restricted to the age 18 and over. We have to screen out people with appropriate ages. Your cousin is age 14. Let's try this out using if statement\n",
    "\n",
    "예)\n",
    "\n",
    "청손년관람불가 판정을 받은 영화가 있다고 가정하자. 즉, 만 18 이상만 관람 가능하다. 자격이 되지 않는 이들을 걸러내야 한다. 당신의 사촌동생이 14살이라고 할 때, 다음의 if문을 사용해보자."
   ]
  },
  {
   "cell_type": "code",
   "execution_count": 1,
   "metadata": {},
   "outputs": [
    {
     "name": "stdout",
     "output_type": "stream",
     "text": [
      "You are not allowed to watch this movie.\n"
     ]
    }
   ],
   "source": [
    "age = 14\n",
    "\n",
    "if age < 18:\n",
    "    print(\"You are not allowed to watch this movie.\")\n",
    "\n",
    "else:\n",
    "    print(\"Enjoy the movie!\")\n",
    "    "
   ]
  },
  {
   "cell_type": "markdown",
   "metadata": {},
   "source": [
    "#### Structure (구조)\n",
    "\n",
    "We can create segments of code that only execute if a set of conditions is met. We use if-statements in conjunction with logical statements in order to create branches in our code.\n",
    "\n",
    "An if block gets entered when the condition is considered to be True. If condition is evaluated as False, the if block will simply be skipped unless there is an else block to accompany it. Conditions are made using either logical operators or by using the truthiness of values in Python. An if-statement is defined with a colon and a block of indented text.\n",
    "\n",
    "특정 조건이 만족되어야만 실행되는 코드를 만들 수 있다. if문과 함께 논리 연산자를 사용하면 된다.\n",
    "\n",
    "조건이 True일 경우 if 블록이 작동한다. 만약 조건이 False이고 else가 없다면 if 블록은 건너뛴다. 조건은 논리 연산자나 참/거짓 값을 이용하여 만든다. If문은 콜론(:)과 들여쓰기한 텍스트로 정의된다."
   ]
  },
  {
   "attachments": {
    "if.png": {
     "image/png": "[encoded data removed]"
    }
   },
   "cell_type": "markdown",
   "metadata": {},
   "source": [
    "![if.png](attachment:if.png)"
   ]
  },
  {
   "cell_type": "code",
   "execution_count": 17,
   "metadata": {},
   "outputs": [
    {
     "name": "stdout",
     "output_type": "stream",
     "text": [
      "True\n"
     ]
    }
   ],
   "source": [
    "# This is the basic format of an if statement. This is a vacuous example. \n",
    "# if문의 기본 형식이다.\n",
    "\n",
    "if \"Condition1\": \n",
    "    # This block of code will execute because the string is non-empty\n",
    "    # Everything on these indented lines\n",
    "    # 문자열이 비어있지 않기 때문에 이 코드는 실행된다.\n",
    "    # 들여써서 코드를 작성해야 한다. \n",
    "    print (True)\n",
    "else:\n",
    "    # So if the condition that we examined with if is in fact False\n",
    "    # This block of code will execute INSTEAD of the first block of code\n",
    "    # Everything on these indented lines\n",
    "    # 만약 if로 살핀 조건이 False이면\n",
    "    # 첫번째 블록 대신 이 코드가 실행된다.\n",
    "    # 들여써서 코드를 작성해야 한다.\n",
    "    print (False)\n"
   ]
  },
  {
   "cell_type": "code",
   "execution_count": 18,
   "metadata": {},
   "outputs": [
    {
     "name": "stdout",
     "output_type": "stream",
     "text": [
      "True\n"
     ]
    }
   ],
   "source": [
    "# If you want more than two control line, you should use \"elif\"\n",
    "# 두 줄 이사상의 제어문이 필요하면, \"elif\"를 사용하라\n",
    "\n",
    "if \"Condition\": \n",
    "    # Everything on these indented lines\n",
    "    # 들여써서 코드를 작성해야 한다.\n",
    "    print (True)\n",
    "\n",
    "elif \"Condition2\":\n",
    "    # This block of code will execute only if the previous statement is false\n",
    "    # Everything on these indented lines\n",
    "    # 이 코드 블록은 이전 조건문이 False이어야만 실행된다\n",
    "    # 들여써서 코드를 작성해야 한다.\n",
    "    print(\"What?\")\n",
    "    \n",
    "elif \"Condition3\":\n",
    "    # Everything on these indented lines\n",
    "    # 들여써서 코드를 작성해야 한다.\n",
    "    print(\"What??\")\n",
    "    \n",
    "else:\n",
    "    # This block of code will execute INSTEAD of the first and the second block of code\n",
    "    # Everything on these indented lines\n",
    "    # 이 코드는 첫번째 및 두번째 코드 대신 실행된다.\n",
    "    # 들여써서 코드를 작성해야 한다.\n",
    "    print (False)\n",
    "    "
   ]
  },
  {
   "cell_type": "markdown",
   "metadata": {},
   "source": [
    "__Ways to write condition statements__\n",
    "<div>__조건문 작성 방법__</div>\n",
    "\n",
    "|various expressions\n",
    "|:--\n",
    "| x < y , x > y \n",
    "| x == y, x != y\n",
    "| x >= y, x <= y\n",
    "| x or y\n",
    "| x and y\n",
    "| not x \n",
    "| x in list , x not in list\n",
    "| x in tuple , x not in tuple\n",
    "| x in string , x not in string"
   ]
  },
  {
   "cell_type": "code",
   "execution_count": 19,
   "metadata": {},
   "outputs": [
    {
     "name": "stdout",
     "output_type": "stream",
     "text": [
      "Take Taxi\n"
     ]
    }
   ],
   "source": [
    "# Example 1\n",
    "\n",
    "money = 3000\n",
    "feeling = \"bad\"\n",
    "\n",
    "if money < 3000:\n",
    "    print(\"Walk\")\n",
    "\n",
    "elif money >= 3000 and feeling == \"good\":\n",
    "    print(\"Take Bus\")\n",
    "    \n",
    "else:\n",
    "    print(\"Take Taxi\")\n"
   ]
  },
  {
   "cell_type": "code",
   "execution_count": 30,
   "metadata": {},
   "outputs": [
    {
     "name": "stdout",
     "output_type": "stream",
     "text": [
      "Give me donkatsu\n"
     ]
    }
   ],
   "source": [
    "# Example 2\n",
    "\n",
    "menu = {\"ramen\":[\"flour\",\"egg\",\"pork\",\"onion\"],\n",
    "       \"spaghetti\":[\"flour\",\"cream\",\"tomato\",\"beef\",\"onion\"],\n",
    "       \"kimbap\":[\"rice\",\"carrot\",\"spam\",\"egg\",\"spinach\",\"pickle\"]}\n",
    "\n",
    "if \"flour\" not in menu[\"ramen\"]:\n",
    "    print(\"I will eat ramen!!!\")\n",
    "\n",
    "elif \"kimbap\" in menu.keys():\n",
    "    print(\"Give me donkatsu\")\n",
    "    \n",
    "else:\n",
    "    print(\"spaghetti for me please\")\n"
   ]
  },
  {
   "cell_type": "code",
   "execution_count": 31,
   "metadata": {},
   "outputs": [
    {
     "name": "stdout",
     "output_type": "stream",
     "text": [
      "10 is even number!!!\n",
      "10 is divisible by both 2 and 5! Wow!\n"
     ]
    }
   ],
   "source": [
    "# Example 3\n",
    "\n",
    "i = 10\n",
    "if i % 2 == 0:\n",
    "    print(\"{0} is even number!!!\".format(i))\n",
    "    \n",
    "    if i % 3 == 0:\n",
    "        print ('{0} is divisible by both 2 and 3! Wow!'.format(i))\n",
    "    elif i % 5 == 0:\n",
    "        print ('{0} is divisible by both 2 and 5! Wow!'.format(i))\n",
    "    else:\n",
    "        print ('{0} is divisible by 2, but not 3 or 5. Meh.'.format(i))\n",
    "else:\n",
    "    print ('{0} is an odd number.'.format(i))"
   ]
  },
  {
   "cell_type": "markdown",
   "metadata": {},
   "source": [
    " "
   ]
  },
  {
   "cell_type": "markdown",
   "metadata": {},
   "source": [
    " "
   ]
  },
  {
   "cell_type": "markdown",
   "metadata": {},
   "source": [
    "### Loop Statement - For (For 루프문)"
   ]
  },
  {
   "cell_type": "markdown",
   "metadata": {},
   "source": [
    "For is a loop statement used for going through values or iterate over any sequences (tuple, list, string).\n",
    "\n",
    "For는 루프문으로써 값이나 순서가 있는 데이터 (tuple, list, string)를 반복하기 위해 사용된다."
   ]
  },
  {
   "cell_type": "code",
   "execution_count": 35,
   "metadata": {},
   "outputs": [
    {
     "name": "stdout",
     "output_type": "stream",
     "text": [
      "0\n",
      "1\n",
      "2\n",
      "3\n",
      "4\n"
     ]
    }
   ],
   "source": [
    "# Example 1\n",
    "\n",
    "for i in range(0,5):\n",
    "    print (i) "
   ]
  },
  {
   "cell_type": "code",
   "execution_count": 36,
   "metadata": {},
   "outputs": [
    {
     "name": "stdout",
     "output_type": "stream",
     "text": [
      "0\n",
      "1\n",
      "2\n",
      "3\n",
      "4\n"
     ]
    }
   ],
   "source": [
    "# Example 2\n",
    "\n",
    "for i in range(5):\n",
    "    print (i) "
   ]
  },
  {
   "cell_type": "code",
   "execution_count": 37,
   "metadata": {},
   "outputs": [
    {
     "name": "stdout",
     "output_type": "stream",
     "text": [
      "3\n",
      "7\n",
      "11\n"
     ]
    }
   ],
   "source": [
    "# Example 3\n",
    "\n",
    "a = [(1,2),(3,4),(5,6)]\n",
    "\n",
    "for (x,y) in a:\n",
    "    print(x+y)"
   ]
  },
  {
   "cell_type": "code",
   "execution_count": 1,
   "metadata": {},
   "outputs": [
    {
     "name": "stdout",
     "output_type": "stream",
     "text": [
      "[6, 8, 10, 9, 12, 15, 12, 16, 20]\n"
     ]
    }
   ],
   "source": [
    "# Example 4\n",
    "\n",
    "result = []\n",
    "\n",
    "for i in range(2,5):\n",
    "    for j in range(3,6):\n",
    "        result.append(i*j)\n",
    "\n",
    "print(result)"
   ]
  },
  {
   "cell_type": "code",
   "execution_count": 2,
   "metadata": {},
   "outputs": [
    {
     "name": "stdout",
     "output_type": "stream",
     "text": [
      "2\n",
      "3\n",
      "4\n"
     ]
    }
   ],
   "source": [
    "for i in range(2,5):\n",
    "    print(i)"
   ]
  },
  {
   "cell_type": "markdown",
   "metadata": {},
   "source": [
    "#### Stopping the Loop (루프 종료하기)"
   ]
  },
  {
   "cell_type": "code",
   "execution_count": 38,
   "metadata": {},
   "outputs": [
    {
     "name": "stdout",
     "output_type": "stream",
     "text": [
      "0\n",
      "1\n"
     ]
    }
   ],
   "source": [
    "for i in range(5):\n",
    "    if i == 2:\n",
    "        break\n",
    "    print (i)"
   ]
  },
  {
   "cell_type": "markdown",
   "metadata": {},
   "source": [
    " "
   ]
  },
  {
   "cell_type": "markdown",
   "metadata": {},
   "source": [
    " "
   ]
  },
  {
   "cell_type": "markdown",
   "metadata": {},
   "source": [
    "### Loop Statement - While (While  루프문)"
   ]
  },
  {
   "cell_type": "markdown",
   "metadata": {},
   "source": [
    "with While loops we need to make sure that something actually changes from iteration to iteration so that that the loop actually terminates.\n",
    "\n",
    "If not, the infinite loop will be created, and your code execution will not stop. In this case, we use the shorthand i -= 1 (short for i = i - 1) so that the value of i gets smaller with each iteration. Eventually i will be reduced to 0, rendering the condition False and exiting the loop. Or, you can use __break__ or use __conditional statements__ to stop the loop.\n",
    "\n",
    "While 루프를 사용할 때에는 루프가 종료될 수 있게 반복을 하면서 무엇인가가 바뀌게끔 해야한다.\n",
    "\n",
    "그렇지 않으면, 무한루프가 만들어져 코드 실행이 멈추지 않게 된다. 이 경우 i -= 1 (i = i - 1를 줄여 쓴 표현)을 이요하여 매번 반복될 때마다 i의 값이 작아지게 한다. 결국 i는 0으로 줄어들고, 조건은 False가 되어 루프를 종료한다. 아니면 __break__ 또는 __조건문__을 이용해서 loop를 멈출 수 있다."
   ]
  },
  {
   "cell_type": "code",
   "execution_count": 45,
   "metadata": {},
   "outputs": [
    {
     "name": "stdout",
     "output_type": "stream",
     "text": [
      "Tree hit 1 times.\n",
      "Tree hit 2 times.\n",
      "Tree hit 3 times.\n",
      "Tree hit 4 times.\n",
      "Tree hit 5 times.\n",
      "Tree hit 6 times.\n",
      "Tree hit 7 times.\n",
      "Tree hit 8 times.\n",
      "Tree hit 9 times.\n",
      "Tree hit 10 times.\n",
      "Tree falls.\n"
     ]
    }
   ],
   "source": [
    "# Example 1\n",
    "\n",
    "treeHit = 0\n",
    "while treeHit < 10:\n",
    "    treeHit = treeHit +1\n",
    "    print(\"Tree hit %d times.\" % treeHit)\n",
    "    if treeHit == 10:\n",
    "        print(\"Tree falls.\")"
   ]
  },
  {
   "cell_type": "code",
   "execution_count": 46,
   "metadata": {},
   "outputs": [
    {
     "name": "stdout",
     "output_type": "stream",
     "text": [
      "11\n",
      "12\n",
      "13\n",
      "14\n"
     ]
    }
   ],
   "source": [
    "# Example 2\n",
    "\n",
    "i = 10\n",
    "while True:\n",
    "    if i == 14:\n",
    "        break\n",
    "    i += 1 # This is shorthand for i = i + 1.\n",
    "    print( i)"
   ]
  },
  {
   "cell_type": "code",
   "execution_count": 52,
   "metadata": {},
   "outputs": [
    {
     "name": "stdout",
     "output_type": "stream",
     "text": [
      "Current Stamina is 45\n",
      "Current Stamina is 40\n",
      "Current Stamina is 35\n",
      "Current Stamina is 30\n",
      "Current Stamina is 25\n",
      "Current Stamina is 20\n",
      "Current Stamina is 15\n",
      "Current Stamina is 10\n",
      "Current Stamina is 5\n",
      "Eat apple\n",
      "Remaning apple is 2\n",
      "Current Stamina is 10\n",
      "Current Stamina is 5\n",
      "Eat apple\n",
      "Remaning apple is 1\n",
      "Current Stamina is 10\n",
      "Current Stamina is 5\n",
      "Current Stamina is 0\n",
      "You are Dead\n"
     ]
    }
   ],
   "source": [
    "# Example 3\n",
    "\n",
    "Stamina = 50\n",
    "apple = 3\n",
    "\n",
    "while Stamina>0:\n",
    "    Stamina -= 5\n",
    "         \n",
    "    while Stamina < 10 & apple > 0:\n",
    "        print(\"Eat apple\")\n",
    "        Stamina += 10\n",
    "        apple -= 1\n",
    "        print(\"Remaning apple is {0}\".format(apple))\n",
    "   \n",
    "    print(\"Current Stamina is {0}\".format(Stamina))\n",
    "    \n",
    "    if Stamina == 0:\n",
    "        print(\"You are Dead\")\n",
    "    else:\n",
    "        pass \n"
   ]
  },
  {
   "cell_type": "markdown",
   "metadata": {},
   "source": [
    "### Break, Continue, Pass\n",
    "\n",
    "__Break, Continue, Pass__ statements are used to work with loop and conditions more efficiently and effectively.\n",
    "\n",
    "__Break, Continue, Pass__ 문은 루프와 조건을 보다 효율적이고 효과적으로 이요할 수 있게 한다.\n",
    "\n",
    "__Break__ statements provide the opportunity to stop and exit the loop completely when external condition is triggered. \n",
    "\n",
    "__Break__문은 외부조건이 발생했을 때 루프를 종료시킨다."
   ]
  },
  {
   "cell_type": "code",
   "execution_count": 54,
   "metadata": {},
   "outputs": [
    {
     "name": "stdout",
     "output_type": "stream",
     "text": [
      "Number is 1\n",
      "Number is 2\n",
      "Number is 3\n",
      "Number is 4\n",
      "Out of loop\n"
     ]
    }
   ],
   "source": [
    "number = 0\n",
    "\n",
    "for number in range(10):\n",
    "    number = number + 1\n",
    "\n",
    "    if number == 5: # external condition\n",
    "        break    # break here\n",
    "\n",
    "    print('Number is ' + str(number))\n",
    "\n",
    "print('Out of loop')"
   ]
  },
  {
   "cell_type": "markdown",
   "metadata": {},
   "source": [
    "__Continue__ statements allows you to skip over a part of loop when external condition is triggered, but go on to complete the rest of the loop.\n",
    "\n",
    "__Continue__문은 외부조건이 발생했을 때 루프의 일부분을 건너 뛰고 루프의 나머지를 실행시킨다."
   ]
  },
  {
   "cell_type": "code",
   "execution_count": 3,
   "metadata": {},
   "outputs": [
    {
     "name": "stdout",
     "output_type": "stream",
     "text": [
      "Number is 1\n",
      "Number is 2\n",
      "Number is 3\n",
      "Number is 4\n",
      "Number is 6\n",
      "Number is 7\n",
      "Number is 8\n",
      "Number is 9\n",
      "Number is 10\n",
      "Out of loop\n"
     ]
    }
   ],
   "source": [
    "number = 0\n",
    "\n",
    "for number in range(10):\n",
    "    number = number + 1\n",
    "\n",
    "    if number == 5: # external condition\n",
    "        continue    # break here\n",
    "\n",
    "    print('Number is ' + str(number))  # Number is 5 will not be printed\n",
    "\n",
    "print('Out of loop')  "
   ]
  },
  {
   "cell_type": "markdown",
   "metadata": {},
   "source": [
    "__Pass__ statement allows to handle the condition without the loop being impacted in any way.\n",
    "\n",
    "__Pass__문은 loop에 영향을 끼치지 않고 조건을 해결한다."
   ]
  },
  {
   "cell_type": "code",
   "execution_count": 4,
   "metadata": {},
   "outputs": [
    {
     "name": "stdout",
     "output_type": "stream",
     "text": [
      "Number is 1\n",
      "Number is 2\n",
      "Number is 3\n",
      "Number is 4\n",
      "Number is 5\n",
      "Number is 6\n",
      "Number is 7\n",
      "Number is 8\n",
      "Number is 9\n",
      "Number is 10\n",
      "Out of loop\n"
     ]
    }
   ],
   "source": [
    "number = 0\n",
    "\n",
    "for number in range(10):\n",
    "    number = number + 1\n",
    "\n",
    "    if number == 5: # external condition\n",
    "        pass   # break here\n",
    "\n",
    "    print('Number is ' + str(number)) \n",
    "\n",
    "print('Out of loop')  "
   ]
  },
  {
   "cell_type": "markdown",
   "metadata": {},
   "source": [
    "------------------------------"
   ]
  }
 ],
 "metadata": {
  "kernelspec": {
   "display_name": "Python 3",
   "language": "python",
   "name": "python3"
  },
  "language_info": {
   "codemirror_mode": {
    "name": "ipython",
    "version": 3
   },
   "file_extension": ".py",
   "mimetype": "text/x-python",
   "name": "python",
   "nbconvert_exporter": "python",
   "pygments_lexer": "ipython3",
   "version": "3.7.0"
  }
 },
 "nbformat": 4,
 "nbformat_minor": 2
}
