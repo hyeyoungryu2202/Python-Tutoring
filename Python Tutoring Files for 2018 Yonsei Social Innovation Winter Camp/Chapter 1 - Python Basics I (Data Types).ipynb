{
 "cells": [
  {
   "cell_type": "markdown",
   "metadata": {},
   "source": [
    "# Chapter 1 - Python Basics I (Python 기초 I)"
   ]
  },
  {
   "cell_type": "markdown",
   "metadata": {},
   "source": [
    "## 1. Python is an intuitive language\n",
    "## 1. Python은 직관적인 언어다"
   ]
  },
  {
   "cell_type": "markdown",
   "metadata": {},
   "source": [
    "Python is very intuitive, compared to other programming languages. This is why people say that it is easy to learn for beginners. \n",
    "\n",
    "Let's look at the example below.\n",
    "\n",
    "Python은 다른 프로그래밍 언어에 비해 굉장히 직관적이다. 그래서 초보자들이 배우기에 쉽다.\n",
    "\n",
    "아래 예를 보자."
   ]
  },
  {
   "cell_type": "code",
   "execution_count": 1,
   "metadata": {},
   "outputs": [
    {
     "name": "stdout",
     "output_type": "stream",
     "text": [
      "correct\n"
     ]
    }
   ],
   "source": [
    "x = 3\n",
    "if x ==3: print(\"correct\")"
   ]
  },
  {
   "cell_type": "markdown",
   "metadata": {},
   "source": [
    "Just by reading this code, most people can catch what this code is saying.\n",
    "\n",
    "The first line says that \"x\" equals to 3\n",
    "The second line says that if \"x\" equals to 3, print the word \"correct\"\n",
    "\n",
    "Pretty easy eh?\n",
    "\n",
    "특별히 코딩에 대한 지식이 없어도 대부분 이 코드를 직관적으로 이해할 수 있다.\n",
    "\n",
    "첫째 줄: 'x'는 3이다\n",
    "\n",
    "둘째 줄: 만약(if) 'x'가 3이면, 'correct'라는 문구를 출력(print)하라."
   ]
  },
  {
   "cell_type": "markdown",
   "metadata": {},
   "source": [
    "------------------------------"
   ]
  },
  {
   "cell_type": "markdown",
   "metadata": {},
   "source": [
    "## 2. Code Comments\n",
    "## 2. 주석 삽입하기"
   ]
  },
  {
   "cell_type": "markdown",
   "metadata": {},
   "source": [
    "Code comment is used for explanation from developers. They are ignored during code execution. Code comments can be made after a hashtag. For more multiple code comments, use of three quotations are used. Below is an example.\n",
    "\n",
    "주석문(code comment)은 개발자들이 코드를 설명하기 위해 사용한다. 이는 코드 실행에서 인식되지 않는다. 주석문은 해시태그(#)로 표현된다."
   ]
  },
  {
   "cell_type": "code",
   "execution_count": 2,
   "metadata": {
    "collapsed": true
   },
   "outputs": [],
   "source": [
    "# This is a comment\n",
    "# The comment section is ignored during the code execution"
   ]
  },
  {
   "cell_type": "markdown",
   "metadata": {},
   "source": [
    "The multiline comments do not perform anything.\n",
    "<div> 여러줄을 필요로 하는 주석문인 블록 코멘트의 경우, 따옴표 세개로 표현된다. 블록 코멘트는 아무 기능도 수행하지 않는다. </div>"
   ]
  },
  {
   "cell_type": "code",
   "execution_count": 12,
   "metadata": {
    "scrolled": true
   },
   "outputs": [
    {
     "data": {
      "text/plain": [
       "'\\nThis is a multi-line comment. It is a special type of string called, Doc-string.\\nNormally, they are used for detailed explanation of codes, or long comments\\n'"
      ]
     },
     "execution_count": 12,
     "metadata": {},
     "output_type": "execute_result"
    }
   ],
   "source": [
    "\"\"\"\n",
    "This is a multi-line comment. It is a special type of string called, Doc-string.\n",
    "Normally, they are used for detailed explanation of codes, or long comments\n",
    "\"\"\""
   ]
  },
  {
   "cell_type": "markdown",
   "metadata": {},
   "source": [
    "------------------------------"
   ]
  },
  {
   "cell_type": "markdown",
   "metadata": {},
   "source": [
    "## 3. Data Types\n",
    "## 3. 데이터 유형\n",
    "\n",
    "When you learn English, alphabet is the fundamental unit of knowledge. Python is also a programming __\"language\"__. Importance of data types are equivalent to knowing the alphabets.\n",
    "\n",
    "These are main data types of python:\n",
    "\n",
    "- Numbers\n",
    "- Strings\n",
    "- Boolean\n",
    "- Lists\n",
    "- Tuples\n",
    "- Dictionary\n",
    "- Set\n",
    "\n",
    "Let's cover these data types one by one.\n",
    "\n",
    "영어를 배울 때, 알파벳은 가장 기본적인 토대다. 프로그래밍 **언어**에서 데이터 유형이란 영어에서 알파벳과도 같다.\n",
    "\n",
    "파이썬의 핵심적인 데이터 유형은 다음과 같다.\n",
    "\n",
    "- Numbers\n",
    "- Strings (문자열)\n",
    "- Boolean\n",
    "- Lists\n",
    "- Tuples (튜플)\n",
    "- Dictionary\n",
    "- Set (집합)\n",
    "\n",
    "이제 하나씩 살펴보자."
   ]
  },
  {
   "cell_type": "markdown",
   "metadata": {},
   "source": [
    "### 3-1. _Numbers_\n",
    "\n",
    "Numbers include integers, floating numbers and complex numbers. If you have done your mathematics, these terms should be familiar. Also, there are octal and hexadecimal numbers which are not frequently used in general python programming.\n",
    "\n",
    "정수(integers), 실수(floating numbers) 그리고 복소수(complex numbers)가 있다. 또한 보통 잘 사용되지는 않지만 8진수와 16진수도 있다.\n",
    "\n",
    "- integers --> _int_\n",
    "- floating number --> _float_\n",
    "- complex number --> _complex_\n",
    "\n",
    "Let's look at them one by one."
   ]
  },
  {
   "cell_type": "markdown",
   "metadata": {},
   "source": [
    "#### 3-1-1. Integer (정수)"
   ]
  },
  {
   "cell_type": "code",
   "execution_count": 2,
   "metadata": {},
   "outputs": [
    {
     "name": "stdout",
     "output_type": "stream",
     "text": [
      "50\n"
     ]
    },
    {
     "data": {
      "text/plain": [
       "int"
      ]
     },
     "execution_count": 2,
     "metadata": {},
     "output_type": "execute_result"
    }
   ],
   "source": [
    "# Integer\n",
    "## Integer is a real number. \n",
    "#It is a round number with no values after decimal point\n",
    "\n",
    "x = 50\n",
    "\n",
    "# Simple line that orders to show (print) x\n",
    "# x 를 출력(print)하라는 코드\n",
    "print(x)\n",
    "# This shows what the data type of x is.\n",
    "# x 의 데이터 유형을 보여준다.\n",
    "type(x)"
   ]
  },
  {
   "cell_type": "markdown",
   "metadata": {},
   "source": [
    "Variables are assigned by using a single equation sign \"=\". They are case sensitive, but using similar variables are not recommended in a complex coding, due to confusion and readability.\n",
    "\n",
    "변수(variable)는 \"=\" 부호를 통해 할당한다. 변수는 대소문자 구분이 있으나, 혼란과 가독성 때문에 비슷한 변수를 사용하지 않는 것을 추천한다."
   ]
  },
  {
   "cell_type": "code",
   "execution_count": 15,
   "metadata": {},
   "outputs": [
    {
     "name": "stdout",
     "output_type": "stream",
     "text": [
      "3 6\n"
     ]
    }
   ],
   "source": [
    "one = 3\n",
    "One = 6\n",
    "\n",
    "print(one, One)"
   ]
  },
  {
   "cell_type": "markdown",
   "metadata": {},
   "source": [
    "#### 3-1-2. Float (실수)"
   ]
  },
  {
   "cell_type": "code",
   "execution_count": 20,
   "metadata": {},
   "outputs": [
    {
     "name": "stdout",
     "output_type": "stream",
     "text": [
      "1.4\n",
      "4.0\n",
      "1\n",
      "4\n",
      "<class 'int'>\n",
      "<class 'float'>\n"
     ]
    }
   ],
   "source": [
    "# Floating Point\n",
    "# Floating point is a name for a real number.\n",
    "# It may have numbers after the decimal point.\n",
    "\n",
    "y = 1.4\n",
    "z = 4.0\n",
    "\n",
    "print(y)\n",
    "print(z)\n",
    "\n",
    "# You can use int() function to make float to integer.\n",
    "# int() 함수는 실수를 정수로 변환한다\n",
    "print(int(y))\n",
    "print(int(z))\n",
    "\n",
    "#You can use float() function to force a number to be considered as a float.\n",
    "#float() 함수는 강제로 숫자를 실수로 인식하게 한다.\n",
    "my_int = 3\n",
    "print(type(my_int))\n",
    "\n",
    "my_int2 = float(3)\n",
    "print(type(my_int2))"
   ]
  },
  {
   "cell_type": "markdown",
   "metadata": {},
   "source": [
    "#### 3-1-3. Complex (복소수)"
   ]
  },
  {
   "cell_type": "code",
   "execution_count": 26,
   "metadata": {},
   "outputs": [
    {
     "name": "stdout",
     "output_type": "stream",
     "text": [
      "(2+4j) (1+5j) (3+9j)\n"
     ]
    }
   ],
   "source": [
    "# Complex\n",
    "# Complex is a complex number. \n",
    "# It is a number that can be expressed in the form of a + bi\n",
    "# a, b are real numbers while i is the solution of x^2= -1\n",
    "\n",
    "x = complex(2,4)\n",
    "y = complex(1,5)\n",
    "\n",
    "print(x,y, x + y)"
   ]
  },
  {
   "cell_type": "markdown",
   "metadata": {},
   "source": [
    "#### 3-1-4. Basic Math (계산 기능)"
   ]
  },
  {
   "cell_type": "markdown",
   "metadata": {},
   "source": [
    "Python has a number of built-in math functions. These can be extended even further by importing the math package or by including any number of other calculation-based packages.\n",
    "\n",
    "All of the basic arithmetic operations are supported: +, -, /, and . You can create exponents by using * and modular arithmetic is introduced with the mod operator, %.\n",
    "\n",
    "파이썬에는 기본적으로 계산 관련 함수가 탑재되어 있다. math 패키지를 불러오거나 다른 계산 관련 패키지들을 통해 이 기능을 확장할 수 있다."
   ]
  },
  {
   "cell_type": "code",
   "execution_count": 1,
   "metadata": {},
   "outputs": [
    {
     "name": "stdout",
     "output_type": "stream",
     "text": [
      "Addition:  4\n",
      "Subtraction:  3\n",
      "Multiplication:  10\n",
      "Division:  5.0\n",
      "Exponentiation:  9\n",
      "Modulo:  3\n"
     ]
    }
   ],
   "source": [
    "print ('Addition: ', 2 + 2) #덧셈\n",
    "print ('Subtraction: ', 7 - 4) #뺄셈\n",
    "print ('Multiplication: ', 2 * 5) #곱셈\n",
    "print ('Division: ', 10 / 2) #나눗셈\n",
    "print ('Exponentiation: ', 3**2) #제곱\n",
    "print ('Modulo: ', 15 % 4) # remainder #나머지"
   ]
  },
  {
   "cell_type": "markdown",
   "metadata": {},
   "source": [
    "This also works on variables.\n",
    "\n",
    "변수를 이용한 계산도 가능하다."
   ]
  },
  {
   "cell_type": "code",
   "execution_count": 2,
   "metadata": {},
   "outputs": [
    {
     "name": "stdout",
     "output_type": "stream",
     "text": [
      "20\n"
     ]
    },
    {
     "data": {
      "text/plain": [
       "1"
      ]
     },
     "execution_count": 2,
     "metadata": {},
     "output_type": "execute_result"
    }
   ],
   "source": [
    "first_integer = 4\n",
    "second_integer = 5\n",
    "print (first_integer * second_integer)\n",
    "\n",
    "x = 3\n",
    "x - 2"
   ]
  },
  {
   "cell_type": "code",
   "execution_count": 3,
   "metadata": {},
   "outputs": [
    {
     "name": "stdout",
     "output_type": "stream",
     "text": [
      "3.6666666666666665\n"
     ]
    }
   ],
   "source": [
    "first_integer = 11\n",
    "second_integer = 3\n",
    "print (first_integer / second_integer)"
   ]
  },
  {
   "cell_type": "markdown",
   "metadata": {},
   "source": [
    "__3-1-5. Python's built-in math functions__\n",
    "\n",
    "__3-1-5. 파이썬 기본 math 함수__\n",
    "- abs()\n",
    "- round()\n",
    "- max()\n",
    "- min()\n",
    "- sum()\n",
    "\n",
    "These functions all act as you would expect, given their names. Calling abs() on a number will return its absolute value. The round() function will round a number to a specified number of the decimal points (the default is 00 ). Calling max() or min() on a collection of numbers will return, respectively, the maximum or minimum value in the collection. Calling sum() on a collection of numbers will add them all up. If you're not familiar with how collections of values in Python work, don't worry! We will cover collections in-depth in the next section.\n",
    "\n",
    "abs()는 절대값\n",
    "\n",
    "round()는 원하는 자리수까지의 반올림\n",
    "\n",
    "max()와 min()은 숫자들의 최대값 또는 최소값\n",
    "\n",
    "sum()은 숫자들의 합"
   ]
  },
  {
   "cell_type": "code",
   "execution_count": 4,
   "metadata": {},
   "outputs": [
    {
     "name": "stdout",
     "output_type": "stream",
     "text": [
      "8\n"
     ]
    }
   ],
   "source": [
    "import math\n",
    "round(3.45969,2)\n",
    "list = [1,2,3,4,5,6,7,8]\n",
    "print(max(list))"
   ]
  },
  {
   "cell_type": "markdown",
   "metadata": {},
   "source": [
    "### 3-2. _Strings_ (문자열)"
   ]
  },
  {
   "cell_type": "markdown",
   "metadata": {},
   "source": [
    "string is a data type that lets you include text as a variable. They are defined using single quotes or double quotes.\n",
    "\n",
    "Both are allowed so that we can include apostrophes or quotation marks in a string if we so choose.\n",
    "\n",
    "You may use \\ to include apostrophes or quotation marks into the string.\n",
    "\n",
    "string (문자열)은 텍스트를 변수로 포함할 수 있게 해주는 데이터 유형이다. 작은 따옴표 또는 큰 따옴표로 정의된다.\n",
    "\n",
    "문자열 안에 작은 따옴표나 큰 따옴표를 포함할 수 있게 두가지 모두 허용된다.\n",
    "\n",
    "'\\'를 이용해서 문자열 안에 작은 따옴표나 큰 따옴표를 포함할 수 있다."
   ]
  },
  {
   "cell_type": "code",
   "execution_count": 5,
   "metadata": {},
   "outputs": [
    {
     "name": "stdout",
     "output_type": "stream",
     "text": [
      "Hello. My name is python\n",
      "Bye. It was nice to meet you\n",
      "\"Jabberwocky\", by Lewis Carroll\n",
      "'Twas brillig, and the slithy toves / Did gyre and gimble in the wabe;\n",
      "He said, 'this is ridiculous.'\n",
      "He said, 'this is ridculous.'\n"
     ]
    }
   ],
   "source": [
    "say_hello = \"Hello. My name is python\"\n",
    "print(say_hello)\n",
    "\n",
    "say_bye = 'Bye. It was nice to meet you'\n",
    "print(say_bye)\n",
    "\n",
    "my_string = '\"Jabberwocky\", by Lewis Carroll'\n",
    "print (my_string)\n",
    "\n",
    "my_string = \"'Twas brillig, and the slithy toves / Did gyre and gimble in the wabe;\"\n",
    "print (my_string)\n",
    "\n",
    "alt_string = 'He said, \\'this is ridiculous.\\''\n",
    "print(alt_string)\n",
    "\n",
    "alt_string1 = \"He said, 'this is ridculous.'\"\n",
    "print(alt_string1)"
   ]
  },
  {
   "cell_type": "markdown",
   "metadata": {},
   "source": [
    "#### 3-2-1. Calculation in Strings (문자열 계산 방식)"
   ]
  },
  {
   "cell_type": "code",
   "execution_count": 7,
   "metadata": {},
   "outputs": [
    {
     "data": {
      "text/plain": [
       "'Harry Potter'"
      ]
     },
     "execution_count": 7,
     "metadata": {},
     "output_type": "execute_result"
    }
   ],
   "source": [
    "# Addition\n",
    "first_name = \"Harry\" \n",
    "last_name = \" Potter\"\n",
    "\n",
    "first_name + last_name"
   ]
  },
  {
   "cell_type": "code",
   "execution_count": 41,
   "metadata": {},
   "outputs": [
    {
     "data": {
      "text/plain": [
       "'likeylikey'"
      ]
     },
     "execution_count": 41,
     "metadata": {},
     "output_type": "execute_result"
    }
   ],
   "source": [
    "# Multiplication\n",
    "twice = \"likey\"\n",
    "twice*2"
   ]
  },
  {
   "cell_type": "code",
   "execution_count": 42,
   "metadata": {},
   "outputs": [
    {
     "name": "stdout",
     "output_type": "stream",
     "text": [
      "========================================\n",
      "Oh Yeah\n",
      "========================================\n"
     ]
    }
   ],
   "source": [
    "# Usage\n",
    "print(\"=\"*40)\n",
    "print(\"Oh Yeah\")\n",
    "print(\"=\"*40)"
   ]
  },
  {
   "cell_type": "markdown",
   "metadata": {},
   "source": [
    "__3-2-2. Indexing and Slicing__\n",
    "\n",
    "Indexing은 무엇인가를 '가리킨다'는 의미이고, slicing은 '잘라낸다'는 의미다."
   ]
  },
  {
   "cell_type": "code",
   "execution_count": 51,
   "metadata": {},
   "outputs": [
    {
     "name": "stdout",
     "output_type": "stream",
     "text": [
      "a\n",
      "w\n",
      "s\n"
     ]
    }
   ],
   "source": [
    "sentence = \"wingardium leviosa\"\n",
    "\n",
    "# Python starts from 0\n",
    "# Python은 0부터 시작한다\n",
    "print(sentence[4])\n",
    "print(sentence[0])\n",
    "print(sentence[-2])"
   ]
  },
  {
   "cell_type": "code",
   "execution_count": 52,
   "metadata": {},
   "outputs": [
    {
     "name": "stdout",
     "output_type": "stream",
     "text": [
      "love\n",
      "wing\n"
     ]
    }
   ],
   "source": [
    "# Usage (활용 예시)\n",
    "print( sentence[11] + sentence[15] + sentence[13] + sentence[12])\n",
    "\n",
    "# sentence[0:4] --> 0<= sentence < 4\n",
    "print( sentence[0:4])"
   ]
  },
  {
   "cell_type": "code",
   "execution_count": 56,
   "metadata": {},
   "outputs": [
    {
     "name": "stdout",
     "output_type": "stream",
     "text": [
      "League of Leg nd\n"
     ]
    },
    {
     "ename": "TypeError",
     "evalue": "'str' object does not support item assignment",
     "output_type": "error",
     "traceback": [
      "\u001b[0;31m---------------------------------------------------------------------------\u001b[0m",
      "\u001b[0;31mTypeError\u001b[0m                                 Traceback (most recent call last)",
      "\u001b[0;32m<ipython-input-56-e0f9681d392f>\u001b[0m in \u001b[0;36m<module>\u001b[0;34m()\u001b[0m\n\u001b[1;32m      4\u001b[0m \u001b[0;34m\u001b[0m\u001b[0m\n\u001b[1;32m      5\u001b[0m \u001b[0;31m# You cannot change string or tuple. These are called imutable data types\u001b[0m\u001b[0;34m\u001b[0m\u001b[0;34m\u001b[0m\u001b[0m\n\u001b[0;32m----> 6\u001b[0;31m \u001b[0ma\u001b[0m\u001b[0;34m[\u001b[0m\u001b[0;34m-\u001b[0m\u001b[0;36m3\u001b[0m\u001b[0;34m]\u001b[0m \u001b[0;34m=\u001b[0m \u001b[0;34m\"e\"\u001b[0m\u001b[0;34m\u001b[0m\u001b[0m\n\u001b[0m\u001b[1;32m      7\u001b[0m \u001b[0mprint\u001b[0m\u001b[0;34m(\u001b[0m\u001b[0ma\u001b[0m\u001b[0;34m)\u001b[0m\u001b[0;34m\u001b[0m\u001b[0m\n",
      "\u001b[0;31mTypeError\u001b[0m: 'str' object does not support item assignment"
     ]
    }
   ],
   "source": [
    "# Changing string by indexing\n",
    "# Indexing을 활용하여 문자열(string) 변경하기\n",
    "a = \"League of Leg nd\"\n",
    "print(a)\n",
    "\n",
    "# You cannot change string or tuple. These are called imutable data types.\n",
    "# 문자열(string)이나 튜플(tuple)은 변경이 불가능하다. 그래서 imutable data types라고 불린다.\n",
    "a[-3] = \"e\"\n",
    "print(a)"
   ]
  },
  {
   "cell_type": "code",
   "execution_count": 63,
   "metadata": {},
   "outputs": [
    {
     "name": "stdout",
     "output_type": "stream",
     "text": [
      "League of Legend\n"
     ]
    }
   ],
   "source": [
    "correct = a[:7] + a[7:-3] + \"e\" + a[-2:]\n",
    "print(correct)"
   ]
  },
  {
   "cell_type": "code",
   "execution_count": 8,
   "metadata": {
    "collapsed": true
   },
   "outputs": [],
   "source": [
    "angie = \"Dokk ebi\""
   ]
  },
  {
   "cell_type": "markdown",
   "metadata": {},
   "source": [
    "#### 3-2-3. Formatting Strings (문자열 정렬)"
   ]
  },
  {
   "cell_type": "markdown",
   "metadata": {},
   "source": [
    "Using the format() method we can add in variable values and generally format our strings.\n",
    "\n",
    "format()을 이용해서 변수에 값을 추가하거나 문자열을 정렬(format)할 수 있다."
   ]
  },
  {
   "cell_type": "code",
   "execution_count": 1,
   "metadata": {},
   "outputs": [
    {
     "name": "stdout",
     "output_type": "stream",
     "text": [
      "Marco Polo\n",
      "Polo Marco\n"
     ]
    }
   ],
   "source": [
    "my_string = \"{0} {1}\".format('Marco', 'Polo')\n",
    "print( my_string)\n",
    "\n",
    "my_string = \"{1} {0}\".format('Marco', 'Polo')\n",
    "print (my_string)"
   ]
  },
  {
   "cell_type": "markdown",
   "metadata": {},
   "source": [
    "We use braces ({}) to indicate parts of the string that will be filled in later and we use the arguments of the format() function to provide the values to substitute. The numbers within the braces indicate the index of the value in the format() arguments.\n",
    "\n",
    "괄호 ({}) 를 이용해서 나중에 채워질 문자열의 부분을 지정할 수 있으며 format() 함수를 이용하여 채워질 값을 지정할 수 있다. 중괄호 안의 숫자는 format() 내 값의 index를 가리킨다."
   ]
  },
  {
   "cell_type": "code",
   "execution_count": 65,
   "metadata": {},
   "outputs": [
    {
     "name": "stdout",
     "output_type": "stream",
     "text": [
      "insert value here\n"
     ]
    }
   ],
   "source": [
    "print ('insert %s here' % 'value')"
   ]
  },
  {
   "cell_type": "markdown",
   "metadata": {},
   "source": [
    "The % symbol basically cues Python to create a placeholder. Whatever character follows the % (in the string) indicates what sort of type the value put into the placeholder will have. This character is called a conversion type. Once the string has been closed, we need another % that will be followed by the values to insert. In the case of one value, you can just put it there. If you are inserting more than one value, they must be enclosed in a tuple.\n",
    "\n",
    "% 부호는 placeholder를 나타낸다. 문자열 내에서 % 뒤에 나오는 문자(위 예의 경우 's')는 placeholder 값의 유형을 나타낸다. 이 문자를 가리켜 conversion type라 한다. 이렇게 문자열을 만들었으면 placeholder에 들어갈 값을 나타내기 위해 또 하나의 %가 필요하다. 값이 한개면 그냥 바로 뒤에 입력하면 된다. 값이 여러개일 경우 튜플을 이용해야 한다."
   ]
  },
  {
   "cell_type": "code",
   "execution_count": 66,
   "metadata": {},
   "outputs": [
    {
     "name": "stdout",
     "output_type": "stream",
     "text": [
      "There are 13 cats in my apartment\n"
     ]
    }
   ],
   "source": [
    "print ('There are %s cats in my %s' % (13, 'apartment'))"
   ]
  },
  {
   "cell_type": "code",
   "execution_count": 9,
   "metadata": {},
   "outputs": [
    {
     "name": "stdout",
     "output_type": "stream",
     "text": [
      "Python 3 is horrible.\n"
     ]
    }
   ],
   "source": [
    "print ('Python %s is %s.' % (3, 'horrible'))"
   ]
  },
  {
   "cell_type": "markdown",
   "metadata": {},
   "source": [
    "#### 3-2-4. Functions related to strings (문자열과 관련된 함수)\n",
    "\n",
    "- count()\n",
    "- find()\n",
    "- index()\n",
    "- join()\n",
    "- upper() / lower()\n",
    "- lstrip() / rstrip()\n",
    "- replace()\n",
    "- split()"
   ]
  },
  {
   "cell_type": "code",
   "execution_count": 2,
   "metadata": {},
   "outputs": [
    {
     "data": {
      "text/plain": [
       "2"
      ]
     },
     "execution_count": 2,
     "metadata": {},
     "output_type": "execute_result"
    }
   ],
   "source": [
    "# Returns the number of character in the string.\n",
    "# 문자열의 문자 개수를 산출한다.\n",
    "a = \"Python is fun\"\n",
    "\n",
    "a.count(\"n\")"
   ]
  },
  {
   "cell_type": "code",
   "execution_count": 73,
   "metadata": {},
   "outputs": [
    {
     "name": "stdout",
     "output_type": "stream",
     "text": [
      "5\n",
      "-1\n"
     ]
    }
   ],
   "source": [
    "# Returns the value of first position. If does not exist, return -1.\n",
    "# 첫번째 자리에 해당하는 값을 산출한다. 값이 존재하지 않을 경우, -1.\n",
    "print(a.find(\"n\"))\n",
    "print(a.find(\"k\"))"
   ]
  },
  {
   "cell_type": "code",
   "execution_count": 74,
   "metadata": {},
   "outputs": [
    {
     "name": "stdout",
     "output_type": "stream",
     "text": [
      "8\n"
     ]
    }
   ],
   "source": [
    "# Returns the index number.\n",
    "# Index 값을 산출한다.\n",
    "print(a.index(\"s\"))"
   ]
  },
  {
   "cell_type": "code",
   "execution_count": 85,
   "metadata": {},
   "outputs": [
    {
     "name": "stdout",
     "output_type": "stream",
     "text": [
      "1Python is fun2\n"
     ]
    }
   ],
   "source": [
    "# Insert string a between 1 and 2.\n",
    "# 1과 2 사이에 문자열을 삽입한다.\n",
    "print(a.join(\"12\"))"
   ]
  },
  {
   "cell_type": "code",
   "execution_count": 86,
   "metadata": {},
   "outputs": [
    {
     "name": "stdout",
     "output_type": "stream",
     "text": [
      "PYTHON IS FUN python is fun\n"
     ]
    }
   ],
   "source": [
    "# Change the characters to uppercase or lowercase.\n",
    "# 문자를 대문자 또는 소문자로 변경한다.\n",
    "print(a.upper(), a.lower())"
   ]
  },
  {
   "cell_type": "code",
   "execution_count": 89,
   "metadata": {},
   "outputs": [
    {
     "name": "stdout",
     "output_type": "stream",
     "text": [
      "I  have lots of      space   \n",
      "       I  have lots of      space\n",
      "I  have lots of      space\n"
     ]
    }
   ],
   "source": [
    "# Deleting spaces in the left of right side of the string.\n",
    "# 문자열의 좌측 또는 우측의 공백을 제거한다.\n",
    "b = \"       I  have lots of      space   \"\n",
    "print(b.lstrip())\n",
    "print(b.rstrip())\n",
    "\n",
    "# Deleting spaces in both side of string.\n",
    "# 문자열의 양쪽 공백을 모두 제거한다.\n",
    "print(b.strip())"
   ]
  },
  {
   "cell_type": "code",
   "execution_count": 90,
   "metadata": {},
   "outputs": [
    {
     "data": {
      "text/plain": [
       "'Python is horrible'"
      ]
     },
     "execution_count": 90,
     "metadata": {},
     "output_type": "execute_result"
    }
   ],
   "source": [
    "# Replace (치환)\n",
    "a.replace(\"fun\",\"horrible\")"
   ]
  },
  {
   "cell_type": "code",
   "execution_count": 94,
   "metadata": {},
   "outputs": [
    {
     "name": "stdout",
     "output_type": "stream",
     "text": [
      "['Python', 'is', 'fun']\n",
      "['I', 'do', 'not', 'like', 'your', 'shirt']\n",
      "['I/do/no', '/like/your/shir', '']\n"
     ]
    }
   ],
   "source": [
    "# Slicing\n",
    "print(a.split())\n",
    "\n",
    "# Another example\n",
    "k = \"I/do/not/like/your/shirt\"\n",
    "print(k.split(\"/\"))\n",
    "print(k.split(\"t\"))\n"
   ]
  },
  {
   "cell_type": "markdown",
   "metadata": {},
   "source": [
    "#### 3-2-5. Encoding"
   ]
  },
  {
   "attachments": {
    "encoding1.gif": {
     "image/gif": "[encoded data removed]"
    }
   },
   "cell_type": "markdown",
   "metadata": {},
   "source": [
    "Normal strings in python are stored internally as 8-bit (= 1byte) ASCII. On the other hand, unicode uses 16-bit system (= 2byte) and it can store a more varied set of characters.\n",
    "\n",
    "Chinese characters and Korean characters cannot be represented in ASCII code.\n",
    "\n",
    "Python에서 문자열은 보통 8 bit (= 1 byte) ASCII로 저장된다. 그러나 unicode는 16 bit (= 2 byte)로 구현되며, 보다 다양한 문자를 표현할 수 있다.\n",
    "\n",
    "한자나 한국어는 ASCII 코드로는 나타낼 수 없다.\n",
    "\n",
    "![encoding1.gif](attachment:encoding1.gif)"
   ]
  },
  {
   "cell_type": "markdown",
   "metadata": {},
   "source": [
    "UTF-8 strings are stored as 8 bit (= 1byte) just like ASCII, but it works as an extension of ASCII. It can express Korean also.\n",
    "\n",
    "UTF-8 문자열은 ASCII와 같이 8 bit (= 1byte)로 저장되어 호환되며, 한국어 표현도 가능하다."
   ]
  },
  {
   "attachments": {
    "encoding%20error.PNG": {
     "image/png": "[encoded data removed]"
    }
   },
   "cell_type": "markdown",
   "metadata": {},
   "source": [
    "![encoding%20error.PNG](attachment:encoding%20error.PNG)"
   ]
  },
  {
   "cell_type": "markdown",
   "metadata": {},
   "source": [
    "Frequent errors that you can encounter.\n",
    "\n",
    "맞딱트릴 수 있는 흔한 오류는 위와 같다."
   ]
  },
  {
   "cell_type": "code",
   "execution_count": 217,
   "metadata": {},
   "outputs": [
    {
     "name": "stdout",
     "output_type": "stream",
     "text": [
      "b'\\xec\\x95\\x88\\xeb\\x85\\x95'\n",
      "안녕\n"
     ]
    }
   ],
   "source": [
    "a = \"안녕\"\n",
    "b = a.encode(\"utf-8\")\n",
    "print(b)\n",
    "\n",
    "c = b.decode(\"utf-8\")\n",
    "print(a)"
   ]
  },
  {
   "cell_type": "markdown",
   "metadata": {},
   "source": [
    "__str -- encode () --> bytes -- decode() --> str__"
   ]
  },
  {
   "cell_type": "markdown",
   "metadata": {},
   "source": [
    "### 3-3. _Boolean_"
   ]
  },
  {
   "cell_type": "markdown",
   "metadata": {},
   "source": [
    "Boolean is related to logical operators, and takes one of two values only: True or False (True = 1, False = 0)\n",
    "\n",
    "Default Boolean values follows:\n",
    "\n",
    "Boolean은 논리 연산자(logical operator)와 관련 있으며, 다음과 같은 두가지 값으로만 표현된다. True or False (True = 1, False = 0)\n",
    "\n",
    "기본 설정된 불리언 값은 다음과 같다.\n",
    "\n",
    "|Values|True of False|\n",
    "|:---|:----|\n",
    "|\"python\"| True|\n",
    "|\"\"|False|\n",
    "|[]|False|\n",
    "|{}|False|\n",
    "|()|False|\n",
    "|0|False|\n",
    "|1|True|\n",
    "|[1,2,3]|True|\n",
    "|None|False|\n",
    "\n",
    "Mostly, empty list,tuple,dictionaries are False. If not, they are True. In terms of numbers, 0 is False while 1 is true.\n",
    "\n",
    "보통 빈 list, tuple, dictionary는 False다. 그러하지 않을 경우, True다. 숫자로 이해하자면 0이 False라면 1이 True다."
   ]
  },
  {
   "cell_type": "code",
   "execution_count": 178,
   "metadata": {},
   "outputs": [
    {
     "name": "stdout",
     "output_type": "stream",
     "text": [
      "False\n"
     ]
    }
   ],
   "source": [
    "print(0 == 5)"
   ]
  },
  {
   "cell_type": "markdown",
   "metadata": {},
   "source": [
    "#### and (&) , or ( | ), not"
   ]
  },
  {
   "cell_type": "code",
   "execution_count": 201,
   "metadata": {},
   "outputs": [
    {
     "name": "stdout",
     "output_type": "stream",
     "text": [
      "True\n",
      "False\n",
      "False\n",
      "==============================\n",
      "True\n",
      "True\n",
      "False\n",
      "==============================\n",
      "False\n",
      "True\n"
     ]
    }
   ],
   "source": [
    "# And\n",
    "print(True & True) # True and True\n",
    "print(True & False) # True and False\n",
    "print(False & False) # False and False\n",
    "\n",
    "print(\"=\"*30)\n",
    "\n",
    "# Or\n",
    "print(True | True) # True or True\n",
    "print(True | False) # True or False\n",
    "print(False | False) # False or False\n",
    "\n",
    "print(\"=\"*30)\n",
    "\n",
    "# Not\n",
    "print(not True)\n",
    "print(not False)"
   ]
  },
  {
   "cell_type": "markdown",
   "metadata": {},
   "source": [
    "### 3-4. _Lists_"
   ]
  },
  {
   "cell_type": "markdown",
   "metadata": {},
   "source": [
    "List is an __ordered__ collection of objects that can contain any data type. List can be defined using brackets [ ].\n",
    "\n",
    "List는 데이터를 모아서 정렬한 것으로써 어떤 데이터 유형도 담을 수 있다. List는 다음의 괄호 [ ] 로 정의된다."
   ]
  },
  {
   "cell_type": "code",
   "execution_count": 97,
   "metadata": {
    "collapsed": true
   },
   "outputs": [],
   "source": [
    "eiffel_tower = [\"Paris\",\"France\",\"1889\",300.65, 324]"
   ]
  },
  {
   "cell_type": "markdown",
   "metadata": {},
   "source": [
    "We can access and index the list by using brackets as well. In order to select an individual element, simply type the list name followed by the index of the item you are looking for in braces.\n",
    "\n",
    "[] 괄호를 이용하여 list를 이용 및 index할 수 있다. List 안에 담긴 각각의 데이터를 element라 하는데, 한개의 element를 선택하기 위해서는 list 이름에 이어 괄호 안에 찾고자 하는 엘레멘트의 index를 기입하면 된다."
   ]
  },
  {
   "cell_type": "code",
   "execution_count": 98,
   "metadata": {},
   "outputs": [
    {
     "data": {
      "text/plain": [
       "300.65"
      ]
     },
     "execution_count": 98,
     "metadata": {},
     "output_type": "execute_result"
    }
   ],
   "source": [
    "eiffel_tower[3]"
   ]
  },
  {
   "cell_type": "markdown",
   "metadata": {},
   "source": [
    "Indexing in Python starts from 00 . If you have a list of length nn , the first element of the list is at index 00 , the second element is at index 11 , and so on and so forth. The final element of the list will be at index n−1n−1 . Be careful! Trying to access a non-existent index will cause an error.\n",
    "\n",
    "We can see the number of elements in a list by calling the len() function.\n",
    "\n",
    "Python에서 indexing은 0부터 시작한다. 길이가 n인 list가 있으면, 첫번째 element는 index 0, 두번째 element는 1, 그리고 마지막 element는 n-1에 있다. 존재하지 않는 index에 접속하려고 하면 에러가 발생한다.\n",
    "\n",
    "len() 함수를 이용하면 element의 개수를 볼 수 있다."
   ]
  },
  {
   "cell_type": "code",
   "execution_count": 100,
   "metadata": {},
   "outputs": [
    {
     "name": "stdout",
     "output_type": "stream",
     "text": [
      "5\n"
     ]
    }
   ],
   "source": [
    "print(len(eiffel_tower))"
   ]
  },
  {
   "cell_type": "markdown",
   "metadata": {},
   "source": [
    "we can update and change list by accessing an index. List is mutable unlike strings meaning you can change them. However, once a string or other immutable data type has been created, it cannot be directly modified without creating an entirely new object.\n",
    "\n",
    "Index에 접속해서 list를 업데이트하거나 수정할 수 있다. List는 string(문자열)과 다르게 수정이 가능하다. 문자열과 같이 수정이 불가능한 데이터 유형은 새로 만드는 방법 외에는 수정이 불가하다."
   ]
  },
  {
   "cell_type": "code",
   "execution_count": 102,
   "metadata": {},
   "outputs": [
    {
     "name": "stdout",
     "output_type": "stream",
     "text": [
      "324\n",
      "320\n"
     ]
    }
   ],
   "source": [
    "print(eiffel_tower[4])\n",
    "\n",
    "eiffel_tower[4] = 320\n",
    "print(eiffel_tower[4])"
   ]
  },
  {
   "cell_type": "markdown",
   "metadata": {},
   "source": [
    "If you want to put two lists together, they can be combined with a + symbol.\n",
    "\n",
    "'+' 부호를 이용해서 List 두개를 합칠 수 있다."
   ]
  },
  {
   "cell_type": "code",
   "execution_count": 103,
   "metadata": {},
   "outputs": [
    {
     "name": "stdout",
     "output_type": "stream",
     "text": [
      "['i', 3, 4.3, [1, 2, 'harry'], 'you', 'hello', 4.5, 3.0]\n"
     ]
    }
   ],
   "source": [
    "# You can put list in a list!\n",
    "list1 = [\"i\", 3, 4.30, [1,2,\"harry\"], \"you\"]\n",
    "list2 = [\"hello\",4.5, 3.0]\n",
    "\n",
    "list3 = list1 + list2\n",
    "print(list3)"
   ]
  },
  {
   "cell_type": "markdown",
   "metadata": {},
   "source": [
    "__3-4-1. Indexing and Slicing__"
   ]
  },
  {
   "cell_type": "markdown",
   "metadata": {},
   "source": [
    "Lists have similar mechanism of indexing and slicing just as strings do.\n",
    "\n",
    "List는 문자열과 비슷한 방식으로 indexing 및 slicing이 가능하다."
   ]
  },
  {
   "cell_type": "code",
   "execution_count": 107,
   "metadata": {},
   "outputs": [
    {
     "name": "stdout",
     "output_type": "stream",
     "text": [
      "['Force', 'be']\n",
      "['the', 'Force', 'be', 'with', 'you']\n",
      "['may', 'the', 'Force']\n",
      "['may', 'the', 'Force', 'be', 'with', 'you']\n"
     ]
    }
   ],
   "source": [
    "starwars = [\"may\",\"the\",\"Force\",\"be\",\"with\",\"you\"]\n",
    "\n",
    "print(starwars[2:4])\n",
    "print(starwars[1:])\n",
    "print(starwars[:3])"
   ]
  },
  {
   "cell_type": "markdown",
   "metadata": {},
   "source": [
    "You can also add a third component to slicing. Instead of simply indicating the first and final parts of your slice, you can specify the step size that you want to take. So instead of taking every single element, you can take every other element.\n",
    "\n",
    "Slicing에서 세번째 조건을 추가할 수 있다. 단순히 slice의 시작과 끝만 가리키는 것이 아니라 단위도 지정할 수 있다. Slicing한 범위에서 모든 element를 다 선택하지 않고 한개씩 건너뛰어 선택할 수도 있다."
   ]
  },
  {
   "cell_type": "code",
   "execution_count": 112,
   "metadata": {},
   "outputs": [
    {
     "name": "stdout",
     "output_type": "stream",
     "text": [
      "['may', 'the', 'Force', 'be', 'with']\n",
      "['may', 'the', 'Force', 'be', 'with', 'you']\n",
      "['you', 5, 'with', 4, 'be', 3, 'Force', 2, 'the', 1, 'may']\n",
      "['you', 'with', 'be', 'Force', 'the', 'may']\n"
     ]
    }
   ],
   "source": [
    "confusing = [\"may\",1,\"the\",2,\"Force\",3,\"be\",4,\"with\",5,\"you\"]\n",
    "print(confusing[0:10:2])The \n",
    "\n",
    "print(confusing[::2])\n",
    "print(confusing[::-1])\n",
    "print(confusing[::-2])"
   ]
  },
  {
   "cell_type": "markdown",
   "metadata": {},
   "source": [
    "__3-4-2. Functions related with lists (list와 관련된 함수)__\n",
    "\n",
    "- append\n",
    "- sort\n",
    "- reverse\n",
    "- index\n",
    "- insert\n",
    "- remove\n",
    "- pop\n",
    "- count\n",
    "- extend"
   ]
  },
  {
   "cell_type": "code",
   "execution_count": 114,
   "metadata": {},
   "outputs": [
    {
     "data": {
      "text/plain": [
       "[1, 2, 3, 4]"
      ]
     },
     "execution_count": 114,
     "metadata": {},
     "output_type": "execute_result"
    }
   ],
   "source": [
    "# append\n",
    "a = [1,2,3]\n",
    "a.append(4)\n",
    "a"
   ]
  },
  {
   "cell_type": "code",
   "execution_count": 121,
   "metadata": {},
   "outputs": [
    {
     "name": "stdout",
     "output_type": "stream",
     "text": [
      "[1, 2, 3, 3, 4, 5, 7]\n",
      "['b', 'c', 'd', 'f', 'r', 'w']\n"
     ]
    }
   ],
   "source": [
    "# sort\n",
    "a = [2,5,3,4,7,1,3]\n",
    "a.sort()\n",
    "print(a)\n",
    "\n",
    "b = [\"c\",\"d\",\"b\",\"w\",\"f\",\"r\"]\n",
    "b.sort()\n",
    "print(b)"
   ]
  },
  {
   "cell_type": "code",
   "execution_count": 122,
   "metadata": {},
   "outputs": [
    {
     "ename": "TypeError",
     "evalue": "unorderable types: str() < int()",
     "output_type": "error",
     "traceback": [
      "\u001b[0;31m---------------------------------------------------------------------------\u001b[0m",
      "\u001b[0;31mTypeError\u001b[0m                                 Traceback (most recent call last)",
      "\u001b[0;32m<ipython-input-122-ff5aa901bedc>\u001b[0m in \u001b[0;36m<module>\u001b[0;34m()\u001b[0m\n\u001b[1;32m      1\u001b[0m \u001b[0mc\u001b[0m \u001b[0;34m=\u001b[0m \u001b[0;34m[\u001b[0m\u001b[0;36m6\u001b[0m\u001b[0;34m,\u001b[0m\u001b[0;36m4\u001b[0m\u001b[0;34m,\u001b[0m\u001b[0;36m8\u001b[0m\u001b[0;34m,\u001b[0m\u001b[0;34m\"e\"\u001b[0m\u001b[0;34m,\u001b[0m\u001b[0;36m3\u001b[0m\u001b[0;34m,\u001b[0m\u001b[0;34m\"b\"\u001b[0m\u001b[0;34m,\u001b[0m\u001b[0;34m\"c\"\u001b[0m\u001b[0;34m]\u001b[0m\u001b[0;34m\u001b[0m\u001b[0m\n\u001b[1;32m      2\u001b[0m \u001b[0;31m# This does not work\u001b[0m\u001b[0;34m\u001b[0m\u001b[0;34m\u001b[0m\u001b[0m\n\u001b[0;32m----> 3\u001b[0;31m \u001b[0mc\u001b[0m\u001b[0;34m.\u001b[0m\u001b[0msort\u001b[0m\u001b[0;34m(\u001b[0m\u001b[0;34m)\u001b[0m\u001b[0;34m\u001b[0m\u001b[0m\n\u001b[0m",
      "\u001b[0;31mTypeError\u001b[0m: unorderable types: str() < int()"
     ]
    }
   ],
   "source": [
    "c = [6,4,8,\"e\",3,\"b\",\"c\"]\n",
    "\n",
    "# This does not work\n",
    "c.sort()"
   ]
  },
  {
   "cell_type": "code",
   "execution_count": 123,
   "metadata": {},
   "outputs": [
    {
     "data": {
      "text/plain": [
       "['b', 'c', 'a']"
      ]
     },
     "execution_count": 123,
     "metadata": {},
     "output_type": "execute_result"
    }
   ],
   "source": [
    "a = [\"a\",\"c\",\"b\"]\n",
    "a.reverse()\n",
    "a"
   ]
  },
  {
   "cell_type": "code",
   "execution_count": 125,
   "metadata": {},
   "outputs": [
    {
     "data": {
      "text/plain": [
       "[1, 5, 3, 6, 7]"
      ]
     },
     "execution_count": 125,
     "metadata": {},
     "output_type": "execute_result"
    }
   ],
   "source": [
    "a = [1,5,3,7]\n",
    "a.insert(3,6)\n",
    "a"
   ]
  },
  {
   "cell_type": "code",
   "execution_count": 126,
   "metadata": {},
   "outputs": [
    {
     "data": {
      "text/plain": [
       "[1, 2, 3, 4, 6, 7]"
      ]
     },
     "execution_count": 126,
     "metadata": {},
     "output_type": "execute_result"
    }
   ],
   "source": [
    "a = [1,2,3,4,5,6,7]\n",
    "a.remove(5)\n",
    "a"
   ]
  },
  {
   "cell_type": "code",
   "execution_count": 127,
   "metadata": {},
   "outputs": [
    {
     "data": {
      "text/plain": [
       "[1, 4]"
      ]
     },
     "execution_count": 127,
     "metadata": {},
     "output_type": "execute_result"
    }
   ],
   "source": [
    "a = [1,4,6]\n",
    "a.pop()\n",
    "a"
   ]
  },
  {
   "cell_type": "code",
   "execution_count": 128,
   "metadata": {},
   "outputs": [
    {
     "data": {
      "text/plain": [
       "1"
      ]
     },
     "execution_count": 128,
     "metadata": {},
     "output_type": "execute_result"
    }
   ],
   "source": [
    "a = [1,4,7,3,5,6,\"d\"]\n",
    "a.count(\"d\")\n"
   ]
  },
  {
   "cell_type": "code",
   "execution_count": 129,
   "metadata": {},
   "outputs": [
    {
     "data": {
      "text/plain": [
       "[1, 2, 3, 4, 5, 'd', '5', 'd', 5]"
      ]
     },
     "execution_count": 129,
     "metadata": {},
     "output_type": "execute_result"
    }
   ],
   "source": [
    "a = [1,2,3,4,5]\n",
    "a.extend([\"d\",\"5\",\"d\",5])\n",
    "a"
   ]
  },
  {
   "cell_type": "markdown",
   "metadata": {},
   "source": [
    "### 3-5. _Tuple_"
   ]
  },
  {
   "cell_type": "markdown",
   "metadata": {},
   "source": [
    "Tuple is similar to list.\n",
    "The difference between tuple and list is that tuple is immutable.\n",
    "The data cannot be changed once it has been generated.\n",
    "\n",
    "Tuple은 list와 유사하다.\n",
    "\n",
    "그러나 list와 달리 tuple은 수정이 불가하다.\n",
    "\n",
    "만들어지고 난 다음에는 데이터는 수정이 불가하다."
   ]
  },
  {
   "cell_type": "code",
   "execution_count": 135,
   "metadata": {},
   "outputs": [
    {
     "name": "stdout",
     "output_type": "stream",
     "text": [
      "<class 'tuple'> <class 'int'>\n",
      "<class 'tuple'> <class 'tuple'>\n"
     ]
    }
   ],
   "source": [
    "t1 = ()\n",
    "\n",
    "# When tuple only has one value, comma must be follwed.\n",
    "# Tuple이 한개의 값값만 있는 경우, 뒤에 쉼표가 반드시 필요하다.\n",
    "t2 = (1,)\n",
    "t3 = (1)\n",
    "\n",
    "print(type(t2), type(t3))\n",
    "\n",
    "# When assigning variable with tuple, brackets can be skipped.\n",
    "# Tuple에 변수를 지정할 때 괄호는 생략이 가능하다.\n",
    "t4 = (1,2,3)\n",
    "t5 = 1,2,3\n",
    "\n",
    "print(type(t4), type(t5))"
   ]
  },
  {
   "cell_type": "markdown",
   "metadata": {},
   "source": [
    "Tuple indexing and slicing is similar to list.\n",
    "\n",
    "Tuple indexing 및 slicing은 list와 비슷하다."
   ]
  },
  {
   "cell_type": "code",
   "execution_count": 141,
   "metadata": {},
   "outputs": [
    {
     "name": "stdout",
     "output_type": "stream",
     "text": [
      "d\n",
      "(7, 4, 'd', 'd2', 2, '4')\n"
     ]
    }
   ],
   "source": [
    "tup = (1,4,7,4,\"d\",\"d2\",2,\"4\")\n",
    "\n",
    "print(tup[4])\n",
    "print(tup[2:])"
   ]
  },
  {
   "cell_type": "markdown",
   "metadata": {},
   "source": [
    "Tuple addition and multiplication\n",
    "\n",
    "Tuple 덧셈 및 곱셈"
   ]
  },
  {
   "cell_type": "code",
   "execution_count": 138,
   "metadata": {},
   "outputs": [
    {
     "name": "stdout",
     "output_type": "stream",
     "text": [
      "(1, 2, 5, 4, 6, 7)\n",
      "(4, 6, 7, 4, 6, 7, 4, 6, 7, 4, 6, 7)\n"
     ]
    }
   ],
   "source": [
    "tuple1 = (1,2,5)\n",
    "tuple2 = (4,6,7)\n",
    "\n",
    "tuple3 = tuple1 + tuple2\n",
    "print(tuple3)\n",
    "\n",
    "print(tuple2*4)"
   ]
  },
  {
   "cell_type": "markdown",
   "metadata": {},
   "source": [
    "### 3-6. _Dictionary_ "
   ]
  },
  {
   "cell_type": "markdown",
   "metadata": {},
   "source": [
    "Dictionary is an important data structure in python. Dictionaries are defined with a combination of curly braces {} and colons : The braces define the beginning and end of a dictionary and the colons indicate key-value pairs. A dictionary is essentially a set of key-value pairs. The key of any entry must be an immutable data type. This makes both strings and tuples candidates. Keys can be both added and deleted.\n",
    "\n",
    "In the following example, we have a dictionary composed of key-value pairs where the key is a genre of fiction (string) and the value is a list of books (list) within that genre. Since a collection is still considered a single entity, we can use one to collect multiple variables or values into one key-value pair.\n",
    "\n",
    "Dictionary는 Python에서 중요한 자료 구조다. Dictionary는 중괄호 {} 그리고 콜론 : 의 조합으로 정의한다. 중괄호는 dictionary의 시작과 끝을 나타내며, 콜론은 key-value pair를 나타낸다. Dictionary는 key-value pair의 모음이라 할 수 있다. Key는 무조건 수정이 불가능한 데이터 타입이어야 한다. 문자열과 tuple을 key로 사용할 수 있다. Key는 추가 및 삭제할 수 있다.\n",
    "\n",
    "다음 예시에서, key가 문학 장르(문자열) 그리고 value가 해당 장르의 책 목록(list)인 dictionary가 있다. 모음 자체가 단일 개체로 여겨지기 때문에 여거랫의 변수나 값을 모아서 하나의 key-value pair를 만들 수 있다."
   ]
  },
  {
   "cell_type": "markdown",
   "metadata": {},
   "source": [
    "Dictionary Example\n",
    "\n",
    "| Key | Value |\n",
    "|:----| :---- |\n",
    "| name| Jake  |\n",
    "|phone|01055999411|\n",
    "|birth|19941125|"
   ]
  },
  {
   "cell_type": "code",
   "execution_count": 150,
   "metadata": {
    "collapsed": true
   },
   "outputs": [],
   "source": [
    "Personal_Info = {\"name\":\"Jake\",\n",
    "                 \"phone\":\"01055999411\",\n",
    "                \"birth\":\"19941125\"}\n"
   ]
  },
  {
   "cell_type": "markdown",
   "metadata": {},
   "source": [
    "#### 3-6-1. Dictionary Usage & Manipulation (Dictionary 활용 및 수정)"
   ]
  },
  {
   "cell_type": "code",
   "execution_count": 142,
   "metadata": {
    "collapsed": true
   },
   "outputs": [],
   "source": [
    "Idols = {\"Twice\": [\"Jihyo\",\"Nayeon\",\"Jungyeon\",\"Momo\",\"Sana\",\"Mina\",\"Dahyun\",\"Chaeyoung\",\"Tzuyu\"], \n",
    "           \"Blackpink\": [\"Jisu\",\"Jennie\",\"Rose\",\"Lisa\"],\n",
    "           \"Bigbang\": [\"GD\",\"TOP\",\"Taeyang\",\"Daesung\",\"Seungri\"],\n",
    "           \"BTS\": [\"RM\",\"Suga\",\"Jin\",\"J-Hope\",\"Jimin\",\"V\",\"Jungkook\"]}"
   ]
  },
  {
   "cell_type": "markdown",
   "metadata": {},
   "source": [
    "After defining a dictionary, we can access any values by indicating its key in brackets.\n",
    "\n",
    "Dictionary를 정의한 후에는 [] 괄호에 key를 기입하여 value(값)에 접근할 수 있다."
   ]
  },
  {
   "cell_type": "code",
   "execution_count": 154,
   "metadata": {
    "scrolled": true
   },
   "outputs": [
    {
     "name": "stdout",
     "output_type": "stream",
     "text": [
      "['RM', 'Suga', 'Jin', 'J-Hope', 'Jimin', 'V', 'Jungkook']\n",
      "['Jihyo', 'Nayeon', 'Jungyeon', 'Momo', 'Sana', 'Mina', 'Dahyun', 'Chaeyoung', 'Tzuyu']\n"
     ]
    }
   ],
   "source": [
    "# Using Key to retrieve values\n",
    "\n",
    "print(Idols[\"BTS\"])\n",
    "print(Idols[\"Twice\"])"
   ]
  },
  {
   "cell_type": "markdown",
   "metadata": {},
   "source": [
    "Dictionary can be changed by the value associated with a given key.\n",
    "\n",
    "Dictionary의 value는 key를 이용하여 수정이 가능하다."
   ]
  },
  {
   "cell_type": "code",
   "execution_count": 145,
   "metadata": {},
   "outputs": [
    {
     "name": "stdout",
     "output_type": "stream",
     "text": [
      "['GD', 'Top', 'Daesung', 'Taeyang']\n"
     ]
    }
   ],
   "source": [
    "Idols[\"Bigbang\"] = [\"GD\",\"Top\",\"Daesung\",\"Taeyang\"]\n",
    "print(Idols[\"Bigbang\"])"
   ]
  },
  {
   "cell_type": "markdown",
   "metadata": {},
   "source": [
    "#### 3-6-2. Cautions when making dictionary (Dictionary를 만들 때의 주의점)\n",
    "\n",
    "Dictionary Key is a unique value.\n",
    "This means that same key cannot be used again.\n",
    "Also, list cannot be used in the key. This will cause error\n",
    "\n",
    "Dictionary Key는 고유한 값이다.\n",
    "\n",
    "즉, 같은 key를 또 사용할 수 없다.\n",
    "\n",
    "또한, list를 key로 사용할 수 없다. 에러의 원인이 된다."
   ]
  },
  {
   "cell_type": "code",
   "execution_count": 161,
   "metadata": {},
   "outputs": [
    {
     "data": {
      "text/plain": [
       "{5: 'b'}"
      ]
     },
     "execution_count": 161,
     "metadata": {},
     "output_type": "execute_result"
    }
   ],
   "source": [
    "# key cannot be used again (there are two \"5\"s in the key)\n",
    "# key를 여러번 사용할 수 없다 (여기 두개의 \"5\"가 key로 할당됐다)\n",
    "xdict = {5:\"a\", 5:\"b\"}\n",
    "\n",
    "# 5:\"b\"만 산출된다\n",
    "# only returns 5:\"b\"\n",
    "xdict"
   ]
  },
  {
   "cell_type": "markdown",
   "metadata": {},
   "source": [
    "#### 3-6-3. Dictionary related functions (Dictionary 관련 함수)\n",
    "\n",
    "- keys\n",
    "- values\n",
    "- items\n",
    "- clear\n",
    "- get\n",
    "- in"
   ]
  },
  {
   "cell_type": "code",
   "execution_count": 162,
   "metadata": {},
   "outputs": [
    {
     "data": {
      "text/plain": [
       "dict_keys(['BTS', 'Twice', 'Bigbang', 'Blackpink'])"
      ]
     },
     "execution_count": 162,
     "metadata": {},
     "output_type": "execute_result"
    }
   ],
   "source": [
    "# Retrieve only \"keys\" from the dictionary\n",
    "# Keys만 산출\n",
    "Idols.keys()"
   ]
  },
  {
   "cell_type": "code",
   "execution_count": 163,
   "metadata": {},
   "outputs": [
    {
     "data": {
      "text/plain": [
       "dict_values([['RM', 'Suga', 'Jin', 'J-Hope', 'Jimin', 'V', 'Jungkook'], ['Jihyo', 'Nayeon', 'Jungyeon', 'Momo', 'Sana', 'Mina', 'Dahyun', 'Chaeyoung', 'Tzuyu'], ['GD', 'Top', 'Daesung', 'Taeyang'], ['Jisu', 'Jennie', 'Rose', 'Lisa']])"
      ]
     },
     "execution_count": 163,
     "metadata": {},
     "output_type": "execute_result"
    }
   ],
   "source": [
    "# Retrieve only \"values\" from the dictionary\n",
    "# \"values\"만 산출\n",
    "Idols.values()"
   ]
  },
  {
   "cell_type": "code",
   "execution_count": 164,
   "metadata": {},
   "outputs": [
    {
     "data": {
      "text/plain": [
       "dict_items([('BTS', ['RM', 'Suga', 'Jin', 'J-Hope', 'Jimin', 'V', 'Jungkook']), ('Twice', ['Jihyo', 'Nayeon', 'Jungyeon', 'Momo', 'Sana', 'Mina', 'Dahyun', 'Chaeyoung', 'Tzuyu']), ('Bigbang', ['GD', 'Top', 'Daesung', 'Taeyang']), ('Blackpink', ['Jisu', 'Jennie', 'Rose', 'Lisa'])])"
      ]
     },
     "execution_count": 164,
     "metadata": {},
     "output_type": "execute_result"
    }
   ],
   "source": [
    "# Retrieve \"keys\" and \"values\" pairs from the dictionary\n",
    "# key-value pair를 산출\n",
    "Idols.items()"
   ]
  },
  {
   "cell_type": "code",
   "execution_count": 165,
   "metadata": {},
   "outputs": [
    {
     "data": {
      "text/plain": [
       "{}"
      ]
     },
     "execution_count": 165,
     "metadata": {},
     "output_type": "execute_result"
    }
   ],
   "source": [
    "# Delete everything in the dictionary\n",
    "# dictionary 안에 담긴 모든 데이터 삭제\n",
    "Personal_Info.clear()\n",
    "Personal_Info"
   ]
  },
  {
   "cell_type": "code",
   "execution_count": 168,
   "metadata": {},
   "outputs": [
    {
     "data": {
      "text/plain": [
       "['Jisu', 'Jennie', 'Rose', 'Lisa']"
      ]
     },
     "execution_count": 168,
     "metadata": {},
     "output_type": "execute_result"
    }
   ],
   "source": [
    "# Getting values with key\n",
    "# Key를 이용해서 value 찾기\n",
    "Idols.get(\"Blackpink\")"
   ]
  },
  {
   "cell_type": "code",
   "execution_count": 169,
   "metadata": {},
   "outputs": [
    {
     "data": {
      "text/plain": [
       "False"
      ]
     },
     "execution_count": 169,
     "metadata": {},
     "output_type": "execute_result"
    }
   ],
   "source": [
    "# Checking if key is in dictionary\n",
    "# Key가 dictionary에 있는지 확인하기\n",
    "\"BtoB\" in Idols"
   ]
  },
  {
   "cell_type": "code",
   "execution_count": 170,
   "metadata": {},
   "outputs": [
    {
     "data": {
      "text/plain": [
       "True"
      ]
     },
     "execution_count": 170,
     "metadata": {},
     "output_type": "execute_result"
    }
   ],
   "source": [
    "\"Bigbang\" in Idols"
   ]
  },
  {
   "cell_type": "markdown",
   "metadata": {},
   "source": [
    "### 3-7. _Set (집합)_\n",
    "\n",
    "Set is made with set() function. Set does not allow repetitive values, and it is unordered.\n",
    "\n",
    "집합은 set() 함수를 이용해 만든다. Set은 반복적인 값을 허용하지 않으며, 정렬되지 않는다."
   ]
  },
  {
   "cell_type": "code",
   "execution_count": 180,
   "metadata": {},
   "outputs": [
    {
     "name": "stdout",
     "output_type": "stream",
     "text": [
      "{1, 2, 3} {'i', 'h', 'T', 't', 's', ' ', 'e'}\n"
     ]
    }
   ],
   "source": [
    "s1 = set([1,2,3])\n",
    "s2 = set(\"This is set\")\n",
    "\n",
    "print(s1, s2)"
   ]
  },
  {
   "cell_type": "markdown",
   "metadata": {},
   "source": [
    "Because set does not have orders, it cannot be indexed nor sliced.\n",
    "In order to perform this, they have to be converted to tuples or lists.\n",
    "\n",
    "집합 안에는 순서가 없기 때문에 indexing이나 slicing을 할 수 없다.\n",
    "이를 하기 위해서는 tuple이나 list로 변환해야 한다."
   ]
  },
  {
   "cell_type": "code",
   "execution_count": 182,
   "metadata": {},
   "outputs": [
    {
     "name": "stdout",
     "output_type": "stream",
     "text": [
      "['i', 'h', 'T', 't', 's', ' ', 'e']\n",
      "s\n"
     ]
    }
   ],
   "source": [
    "l2 = list(s2)\n",
    "print(l2)\n",
    "\n",
    "print(l2[4])\n"
   ]
  },
  {
   "cell_type": "markdown",
   "metadata": {},
   "source": [
    "Set is useful when calculating intersection and union.\n",
    "\n",
    "교집합이나 합집합을 계산할 때 집합은 유용하다."
   ]
  },
  {
   "cell_type": "code",
   "execution_count": 187,
   "metadata": {},
   "outputs": [
    {
     "name": "stdout",
     "output_type": "stream",
     "text": [
      "{8, 2}\n",
      "{8, 2}\n",
      "{1, 2, 3, 4, 5, 6, 7, 8, 9}\n",
      "{1, 2, 3, 4, 5, 6, 7, 8, 9}\n",
      "{1, 5, 9, 7}\n",
      "{1, 5, 9, 7}\n"
     ]
    }
   ],
   "source": [
    "a = set([1,2,5,7,8,9])\n",
    "b = set([2,6,3,8,4])\n",
    "\n",
    "# Intersection\n",
    "print(a & b)\n",
    "print(a.intersection(b))\n",
    "\n",
    "# union\n",
    "print( a | b)\n",
    "print(a.union(b))\n",
    "\n",
    "# subtraction\n",
    "print( a - b)\n",
    "print( a.difference(b))"
   ]
  },
  {
   "cell_type": "markdown",
   "metadata": {},
   "source": [
    "__3-7-1. Set related functions (집합 관련 함수)__\n",
    "\n",
    "- add\n",
    "- update\n",
    "- remove"
   ]
  },
  {
   "cell_type": "code",
   "execution_count": 189,
   "metadata": {},
   "outputs": [
    {
     "name": "stdout",
     "output_type": "stream",
     "text": [
      "{1, 4, 9, 6, 7}\n"
     ]
    }
   ],
   "source": [
    "# Adding a value\n",
    "s1 = set([1,4,6,7])\n",
    "s1.add(9)\n",
    "\n",
    "print(s1)"
   ]
  },
  {
   "cell_type": "code",
   "execution_count": 191,
   "metadata": {},
   "outputs": [
    {
     "name": "stdout",
     "output_type": "stream",
     "text": [
      "{1, 3, 4, 5, 6, 8}\n"
     ]
    }
   ],
   "source": [
    "# Adding multiple values\n",
    "s2 = set([5,8,3])\n",
    "s2.update([1,4,5,6])\n",
    "\n",
    "print(s2)"
   ]
  },
  {
   "cell_type": "code",
   "execution_count": 192,
   "metadata": {},
   "outputs": [
    {
     "name": "stdout",
     "output_type": "stream",
     "text": [
      "{8, 1, 5}\n"
     ]
    }
   ],
   "source": [
    "# Removing a value\n",
    "s3 = set([2,5,8,1])\n",
    "s3.remove(2)\n",
    "\n",
    "print(s3)"
   ]
  }
 ],
 "metadata": {
  "kernelspec": {
   "display_name": "Python 3",
   "language": "python",
   "name": "python3"
  },
  "language_info": {
   "codemirror_mode": {
    "name": "ipython",
    "version": 3
   },
   "file_extension": ".py",
   "mimetype": "text/x-python",
   "name": "python",
   "nbconvert_exporter": "python",
   "pygments_lexer": "ipython3",
   "version": "3.7.0"
  }
 },
 "nbformat": 4,
 "nbformat_minor": 2
}
